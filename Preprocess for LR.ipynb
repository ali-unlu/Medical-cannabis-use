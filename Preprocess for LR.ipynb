{
 "cells": [
  {
   "cell_type": "code",
   "execution_count": 1,
   "id": "04018675",
   "metadata": {},
   "outputs": [],
   "source": [
    "import pandas as pd\n",
    "import numpy as np\n",
    "from sklearn. impute import KNNImputer\n",
    "from sklearn.preprocessing import LabelEncoder \n",
    "from sklearn.preprocessing import OrdinalEncoder\n",
    "from sklearn.ensemble import ExtraTreesRegressor\n",
    "\n",
    "\n",
    "from sklearn.experimental import enable_iterative_imputer\n",
    "from sklearn.impute import IterativeImputer\n",
    "\n",
    "\n",
    "import warnings\n",
    "warnings.filterwarnings(\"ignore\")"
   ]
  },
  {
   "cell_type": "code",
   "execution_count": 2,
   "id": "71461fb8",
   "metadata": {},
   "outputs": [
    {
     "data": {
      "text/html": [
       "<div>\n",
       "<style scoped>\n",
       "    .dataframe tbody tr th:only-of-type {\n",
       "        vertical-align: middle;\n",
       "    }\n",
       "\n",
       "    .dataframe tbody tr th {\n",
       "        vertical-align: top;\n",
       "    }\n",
       "\n",
       "    .dataframe thead th {\n",
       "        text-align: right;\n",
       "    }\n",
       "</style>\n",
       "<table border=\"1\" class=\"dataframe\">\n",
       "  <thead>\n",
       "    <tr style=\"text-align: right;\">\n",
       "      <th></th>\n",
       "      <th>Minkä ikäinen olet?</th>\n",
       "      <th>Mitä sukupuolta edustat?</th>\n",
       "      <th>Mikä on koulutustaustasi?</th>\n",
       "      <th>Unnamed: 10</th>\n",
       "      <th>Minkä kokoisella paikkakunnalla asut?</th>\n",
       "      <th>Missä maakunnassa asut?</th>\n",
       "      <th>Mikä seuraavista vastaa eniten musiikkimakuasi?</th>\n",
       "      <th>Minkä ikäisenä käytit ensimmäistä kertaa kannabista?</th>\n",
       "      <th>Kuinka monena päivänä viimeisen kuukauden aikana olet käyttänyt kannabista?</th>\n",
       "      <th>Päivinä, jolloin käytät kannabista, kuinka paljon tyypillisesti käytät ?(grammoissa, 0,1g-5g)</th>\n",
       "      <th>Mikä seuraavista kuvaa parhaiten syitäsi käyttää kannabista?</th>\n",
       "    </tr>\n",
       "  </thead>\n",
       "  <tbody>\n",
       "    <tr>\n",
       "      <th>0</th>\n",
       "      <td>NaN</td>\n",
       "      <td>NaN</td>\n",
       "      <td>NaN</td>\n",
       "      <td>NaN</td>\n",
       "      <td>NaN</td>\n",
       "      <td>NaN</td>\n",
       "      <td>NaN</td>\n",
       "      <td>NaN</td>\n",
       "      <td>NaN</td>\n",
       "      <td>NaN</td>\n",
       "      <td>NaN</td>\n",
       "    </tr>\n",
       "    <tr>\n",
       "      <th>1</th>\n",
       "      <td>27 - 29</td>\n",
       "      <td>Nainen</td>\n",
       "      <td>Ylioppilastutkinto</td>\n",
       "      <td>NaN</td>\n",
       "      <td>Pääkaupunkiseutu (Helsinki, Espoo, Vantaa, Kau...</td>\n",
       "      <td>Uusimaa</td>\n",
       "      <td>Drum and Bass / Jungle</td>\n",
       "      <td>28.0</td>\n",
       "      <td>1 - 5</td>\n",
       "      <td>0.2</td>\n",
       "      <td>Käytän kannabista useimmiten itse-lääkinnällis...</td>\n",
       "    </tr>\n",
       "    <tr>\n",
       "      <th>2</th>\n",
       "      <td>27 - 29</td>\n",
       "      <td>Mies</td>\n",
       "      <td>Ammatillinen tutkinto</td>\n",
       "      <td>NaN</td>\n",
       "      <td>50 000 - 100 000 asukkaan kaupunki</td>\n",
       "      <td>Satakunta</td>\n",
       "      <td>Metalli / Thrash-metalli / Doom-metalli jne.</td>\n",
       "      <td>16.0</td>\n",
       "      <td>20 - 30</td>\n",
       "      <td>2</td>\n",
       "      <td>Käytän kannabista useimmiten itse-lääkinnällis...</td>\n",
       "    </tr>\n",
       "    <tr>\n",
       "      <th>3</th>\n",
       "      <td>30 +</td>\n",
       "      <td>Nainen</td>\n",
       "      <td>Ylioppilastutkinto</td>\n",
       "      <td>NaN</td>\n",
       "      <td>Muu yli 100 000 asukkaan kaupunki</td>\n",
       "      <td>NaN</td>\n",
       "      <td>NaN</td>\n",
       "      <td>17.0</td>\n",
       "      <td>1 - 5</td>\n",
       "      <td>0.1</td>\n",
       "      <td>Käytän kannabista useimmiten itse-lääkinnällis...</td>\n",
       "    </tr>\n",
       "    <tr>\n",
       "      <th>4</th>\n",
       "      <td>21 - 23</td>\n",
       "      <td>Nainen</td>\n",
       "      <td>Peruskoulu tai vähemmän</td>\n",
       "      <td>NaN</td>\n",
       "      <td>50 000 - 100 000 asukkaan kaupunki</td>\n",
       "      <td>Satakunta</td>\n",
       "      <td>Metalli / Thrash-metalli / Doom-metalli jne.</td>\n",
       "      <td>16.0</td>\n",
       "      <td>20 - 30</td>\n",
       "      <td>2</td>\n",
       "      <td>Käytän kannabista toisinaan itse-lääkinnällisi...</td>\n",
       "    </tr>\n",
       "  </tbody>\n",
       "</table>\n",
       "</div>"
      ],
      "text/plain": [
       "  Minkä ikäinen olet? Mitä sukupuolta edustat? Mikä on koulutustaustasi?  \\\n",
       "0                 NaN                      NaN                       NaN   \n",
       "1             27 - 29                   Nainen        Ylioppilastutkinto   \n",
       "2             27 - 29                     Mies     Ammatillinen tutkinto   \n",
       "3                30 +                   Nainen        Ylioppilastutkinto   \n",
       "4             21 - 23                   Nainen   Peruskoulu tai vähemmän   \n",
       "\n",
       "  Unnamed: 10              Minkä kokoisella paikkakunnalla asut?  \\\n",
       "0         NaN                                                NaN   \n",
       "1         NaN  Pääkaupunkiseutu (Helsinki, Espoo, Vantaa, Kau...   \n",
       "2         NaN                 50 000 - 100 000 asukkaan kaupunki   \n",
       "3         NaN                  Muu yli 100 000 asukkaan kaupunki   \n",
       "4         NaN                 50 000 - 100 000 asukkaan kaupunki   \n",
       "\n",
       "  Missä maakunnassa asut? Mikä seuraavista vastaa eniten musiikkimakuasi?  \\\n",
       "0                     NaN                                             NaN   \n",
       "1                 Uusimaa                          Drum and Bass / Jungle   \n",
       "2               Satakunta    Metalli / Thrash-metalli / Doom-metalli jne.   \n",
       "3                     NaN                                             NaN   \n",
       "4               Satakunta    Metalli / Thrash-metalli / Doom-metalli jne.   \n",
       "\n",
       "   Minkä ikäisenä käytit ensimmäistä kertaa kannabista?  \\\n",
       "0                                                NaN      \n",
       "1                                               28.0      \n",
       "2                                               16.0      \n",
       "3                                               17.0      \n",
       "4                                               16.0      \n",
       "\n",
       "  Kuinka monena päivänä viimeisen kuukauden aikana olet käyttänyt kannabista?  \\\n",
       "0                                                NaN                            \n",
       "1                                              1 - 5                            \n",
       "2                                            20 - 30                            \n",
       "3                                              1 - 5                            \n",
       "4                                            20 - 30                            \n",
       "\n",
       "  Päivinä, jolloin käytät kannabista, kuinka paljon tyypillisesti käytät ?(grammoissa, 0,1g-5g)  \\\n",
       "0                                                NaN                                              \n",
       "1                                                0.2                                              \n",
       "2                                                  2                                              \n",
       "3                                                0.1                                              \n",
       "4                                                  2                                              \n",
       "\n",
       "  Mikä seuraavista kuvaa parhaiten syitäsi käyttää kannabista?  \n",
       "0                                                NaN            \n",
       "1  Käytän kannabista useimmiten itse-lääkinnällis...            \n",
       "2  Käytän kannabista useimmiten itse-lääkinnällis...            \n",
       "3  Käytän kannabista useimmiten itse-lääkinnällis...            \n",
       "4  Käytän kannabista toisinaan itse-lääkinnällisi...            "
      ]
     },
     "execution_count": 2,
     "metadata": {},
     "output_type": "execute_result"
    }
   ],
   "source": [
    "df = pd.read_excel('data/Nuorten_arviointikysely_kannabishanke.xls', sheet_name=1, usecols='H:R', skiprows=2)\n",
    "df.head()"
   ]
  },
  {
   "cell_type": "code",
   "execution_count": 3,
   "id": "d42e5845",
   "metadata": {},
   "outputs": [
    {
     "data": {
      "text/html": [
       "<div>\n",
       "<style scoped>\n",
       "    .dataframe tbody tr th:only-of-type {\n",
       "        vertical-align: middle;\n",
       "    }\n",
       "\n",
       "    .dataframe tbody tr th {\n",
       "        vertical-align: top;\n",
       "    }\n",
       "\n",
       "    .dataframe thead th {\n",
       "        text-align: right;\n",
       "    }\n",
       "</style>\n",
       "<table border=\"1\" class=\"dataframe\">\n",
       "  <thead>\n",
       "    <tr style=\"text-align: right;\">\n",
       "      <th></th>\n",
       "      <th>Minkä ikäinen olet?</th>\n",
       "      <th>Mitä sukupuolta edustat?</th>\n",
       "      <th>Mikä on koulutustaustasi?</th>\n",
       "      <th>Minkä kokoisella paikkakunnalla asut?</th>\n",
       "      <th>Missä maakunnassa asut?</th>\n",
       "      <th>Mikä seuraavista vastaa eniten musiikkimakuasi?</th>\n",
       "      <th>Minkä ikäisenä käytit ensimmäistä kertaa kannabista?</th>\n",
       "      <th>Kuinka monena päivänä viimeisen kuukauden aikana olet käyttänyt kannabista?</th>\n",
       "      <th>Päivinä, jolloin käytät kannabista, kuinka paljon tyypillisesti käytät ?(grammoissa, 0,1g-5g)</th>\n",
       "      <th>Mikä seuraavista kuvaa parhaiten syitäsi käyttää kannabista?</th>\n",
       "    </tr>\n",
       "  </thead>\n",
       "  <tbody>\n",
       "    <tr>\n",
       "      <th>243</th>\n",
       "      <td>24 - 26</td>\n",
       "      <td>Mies</td>\n",
       "      <td>Ammatillinen tutkinto</td>\n",
       "      <td>Muu yli 100 000 asukkaan kaupunki</td>\n",
       "      <td>Keski-Suomi</td>\n",
       "      <td>Punk / Post punk / Ska punk jne.</td>\n",
       "      <td>NaN</td>\n",
       "      <td>NaN</td>\n",
       "      <td>NaN</td>\n",
       "      <td>NaN</td>\n",
       "    </tr>\n",
       "    <tr>\n",
       "      <th>244</th>\n",
       "      <td>18 - 20</td>\n",
       "      <td>Nainen</td>\n",
       "      <td>Peruskoulu tai vähemmän</td>\n",
       "      <td>Muu maaseutu</td>\n",
       "      <td>Pirkanmaa</td>\n",
       "      <td>Reggae / Dub / Ska / Two Tone</td>\n",
       "      <td>15.0</td>\n",
       "      <td>1 - 5</td>\n",
       "      <td>0.2</td>\n",
       "      <td>Käytän kannabista useimmiten itse-lääkinnällis...</td>\n",
       "    </tr>\n",
       "    <tr>\n",
       "      <th>245</th>\n",
       "      <td>18 - 20</td>\n",
       "      <td>Nainen</td>\n",
       "      <td>Jokin muu, mikä</td>\n",
       "      <td>Muu yli 100 000 asukkaan kaupunki</td>\n",
       "      <td>Varsinais-Suomi</td>\n",
       "      <td>Elektro</td>\n",
       "      <td>7.0</td>\n",
       "      <td>5 - 10</td>\n",
       "      <td>0.5</td>\n",
       "      <td>Käytän kannabista toisinaan itse-lääkinnällisi...</td>\n",
       "    </tr>\n",
       "    <tr>\n",
       "      <th>246</th>\n",
       "      <td>24 - 26</td>\n",
       "      <td>Nainen</td>\n",
       "      <td>Ammatillinen tutkinto</td>\n",
       "      <td>Muu yli 100 000 asukkaan kaupunki</td>\n",
       "      <td>Pohjois-Savo</td>\n",
       "      <td>Hip Hop / R 'n' b / Rap / Drill jne.</td>\n",
       "      <td>15.0</td>\n",
       "      <td>20 - 30</td>\n",
       "      <td>0.3</td>\n",
       "      <td>Käytän kannabista useimmiten itse-lääkinnällis...</td>\n",
       "    </tr>\n",
       "    <tr>\n",
       "      <th>247</th>\n",
       "      <td>18 - 20</td>\n",
       "      <td>Nainen</td>\n",
       "      <td>Jokin muu, mikä</td>\n",
       "      <td>50 000 - 100 000 asukkaan kaupunki</td>\n",
       "      <td>Satakunta</td>\n",
       "      <td>Metalli / Thrash-metalli / Doom-metalli jne.</td>\n",
       "      <td>11.0</td>\n",
       "      <td>5 - 10</td>\n",
       "      <td>0.7</td>\n",
       "      <td>Käytän kannabista toisinaan itse-lääkinnällisi...</td>\n",
       "    </tr>\n",
       "  </tbody>\n",
       "</table>\n",
       "</div>"
      ],
      "text/plain": [
       "    Minkä ikäinen olet? Mitä sukupuolta edustat? Mikä on koulutustaustasi?  \\\n",
       "243             24 - 26                     Mies     Ammatillinen tutkinto   \n",
       "244             18 - 20                   Nainen   Peruskoulu tai vähemmän   \n",
       "245             18 - 20                   Nainen           Jokin muu, mikä   \n",
       "246             24 - 26                   Nainen     Ammatillinen tutkinto   \n",
       "247             18 - 20                   Nainen           Jokin muu, mikä   \n",
       "\n",
       "    Minkä kokoisella paikkakunnalla asut? Missä maakunnassa asut?  \\\n",
       "243     Muu yli 100 000 asukkaan kaupunki             Keski-Suomi   \n",
       "244                          Muu maaseutu               Pirkanmaa   \n",
       "245     Muu yli 100 000 asukkaan kaupunki         Varsinais-Suomi   \n",
       "246     Muu yli 100 000 asukkaan kaupunki            Pohjois-Savo   \n",
       "247    50 000 - 100 000 asukkaan kaupunki               Satakunta   \n",
       "\n",
       "    Mikä seuraavista vastaa eniten musiikkimakuasi?  \\\n",
       "243                Punk / Post punk / Ska punk jne.   \n",
       "244                   Reggae / Dub / Ska / Two Tone   \n",
       "245                                         Elektro   \n",
       "246            Hip Hop / R 'n' b / Rap / Drill jne.   \n",
       "247    Metalli / Thrash-metalli / Doom-metalli jne.   \n",
       "\n",
       "     Minkä ikäisenä käytit ensimmäistä kertaa kannabista?  \\\n",
       "243                                                NaN      \n",
       "244                                               15.0      \n",
       "245                                                7.0      \n",
       "246                                               15.0      \n",
       "247                                               11.0      \n",
       "\n",
       "    Kuinka monena päivänä viimeisen kuukauden aikana olet käyttänyt kannabista?  \\\n",
       "243                                                NaN                            \n",
       "244                                              1 - 5                            \n",
       "245                                             5 - 10                            \n",
       "246                                            20 - 30                            \n",
       "247                                             5 - 10                            \n",
       "\n",
       "    Päivinä, jolloin käytät kannabista, kuinka paljon tyypillisesti käytät ?(grammoissa, 0,1g-5g)  \\\n",
       "243                                                NaN                                              \n",
       "244                                                0.2                                              \n",
       "245                                                0.5                                              \n",
       "246                                                0.3                                              \n",
       "247                                                0.7                                              \n",
       "\n",
       "    Mikä seuraavista kuvaa parhaiten syitäsi käyttää kannabista?  \n",
       "243                                                NaN            \n",
       "244  Käytän kannabista useimmiten itse-lääkinnällis...            \n",
       "245  Käytän kannabista toisinaan itse-lääkinnällisi...            \n",
       "246  Käytän kannabista useimmiten itse-lääkinnällis...            \n",
       "247  Käytän kannabista toisinaan itse-lääkinnällisi...            "
      ]
     },
     "execution_count": 3,
     "metadata": {},
     "output_type": "execute_result"
    }
   ],
   "source": [
    "# delete the first row by index value 0\n",
    "df = df.drop(labels=0, axis=0)\n",
    "# delete education comment column\n",
    "df= df.drop(columns=df.columns[3])\n",
    "\n",
    "df.tail()"
   ]
  },
  {
   "cell_type": "code",
   "execution_count": 4,
   "id": "1cc5179b",
   "metadata": {},
   "outputs": [
    {
     "data": {
      "text/plain": [
       "(247, 10)"
      ]
     },
     "execution_count": 4,
     "metadata": {},
     "output_type": "execute_result"
    }
   ],
   "source": [
    "# dimensio of the data\n",
    "df.shape"
   ]
  },
  {
   "cell_type": "markdown",
   "id": "645e8c1e",
   "metadata": {},
   "source": [
    "#### How many missing values?"
   ]
  },
  {
   "cell_type": "code",
   "execution_count": 5,
   "id": "3f68c5ee",
   "metadata": {},
   "outputs": [],
   "source": [
    "def missing_values_table(df):\n",
    "    mis_val = df.isnull().sum()\n",
    "    mis_val_percent = 100 * df.isnull().sum() / len(df)\n",
    "    mis_val_table = pd.concat([mis_val, mis_val_percent], axis=1)\n",
    "    mis_val_table_ren_columns = mis_val_table.rename(\n",
    "    columns = {0 : 'Missing Values', 1 : '% of Total Values'})\n",
    "    mis_val_table_ren_columns = mis_val_table_ren_columns[\n",
    "        mis_val_table_ren_columns.iloc[:,1] != 0].sort_values(\n",
    "    '% of Total Values', ascending=False).round(1)\n",
    "    print (\"Your selected dataframe has \" + str(df.shape[1]) + \" columns.\\n\"      \n",
    "        \"There are \" + str(mis_val_table_ren_columns.shape[0]) +\n",
    "            \" columns that have missing values.\")\n",
    "    return mis_val_table_ren_columns"
   ]
  },
  {
   "cell_type": "code",
   "execution_count": 6,
   "id": "7820fe48",
   "metadata": {},
   "outputs": [
    {
     "name": "stdout",
     "output_type": "stream",
     "text": [
      "Your selected dataframe has 10 columns.\n",
      "There are 10 columns that have missing values.\n"
     ]
    },
    {
     "data": {
      "text/html": [
       "<div>\n",
       "<style scoped>\n",
       "    .dataframe tbody tr th:only-of-type {\n",
       "        vertical-align: middle;\n",
       "    }\n",
       "\n",
       "    .dataframe tbody tr th {\n",
       "        vertical-align: top;\n",
       "    }\n",
       "\n",
       "    .dataframe thead th {\n",
       "        text-align: right;\n",
       "    }\n",
       "</style>\n",
       "<table border=\"1\" class=\"dataframe\">\n",
       "  <thead>\n",
       "    <tr style=\"text-align: right;\">\n",
       "      <th></th>\n",
       "      <th>Missing Values</th>\n",
       "      <th>% of Total Values</th>\n",
       "    </tr>\n",
       "  </thead>\n",
       "  <tbody>\n",
       "    <tr>\n",
       "      <th>Kuinka monena päivänä viimeisen kuukauden aikana olet käyttänyt kannabista?</th>\n",
       "      <td>16</td>\n",
       "      <td>6.5</td>\n",
       "    </tr>\n",
       "    <tr>\n",
       "      <th>Mikä seuraavista vastaa eniten musiikkimakuasi?</th>\n",
       "      <td>10</td>\n",
       "      <td>4.0</td>\n",
       "    </tr>\n",
       "    <tr>\n",
       "      <th>Päivinä, jolloin käytät kannabista, kuinka paljon tyypillisesti käytät ?(grammoissa, 0,1g-5g)</th>\n",
       "      <td>9</td>\n",
       "      <td>3.6</td>\n",
       "    </tr>\n",
       "    <tr>\n",
       "      <th>Minkä ikäisenä käytit ensimmäistä kertaa kannabista?</th>\n",
       "      <td>8</td>\n",
       "      <td>3.2</td>\n",
       "    </tr>\n",
       "    <tr>\n",
       "      <th>Mikä seuraavista kuvaa parhaiten syitäsi käyttää kannabista?</th>\n",
       "      <td>8</td>\n",
       "      <td>3.2</td>\n",
       "    </tr>\n",
       "    <tr>\n",
       "      <th>Missä maakunnassa asut?</th>\n",
       "      <td>7</td>\n",
       "      <td>2.8</td>\n",
       "    </tr>\n",
       "    <tr>\n",
       "      <th>Minkä ikäinen olet?</th>\n",
       "      <td>5</td>\n",
       "      <td>2.0</td>\n",
       "    </tr>\n",
       "    <tr>\n",
       "      <th>Mitä sukupuolta edustat?</th>\n",
       "      <td>4</td>\n",
       "      <td>1.6</td>\n",
       "    </tr>\n",
       "    <tr>\n",
       "      <th>Mikä on koulutustaustasi?</th>\n",
       "      <td>4</td>\n",
       "      <td>1.6</td>\n",
       "    </tr>\n",
       "    <tr>\n",
       "      <th>Minkä kokoisella paikkakunnalla asut?</th>\n",
       "      <td>4</td>\n",
       "      <td>1.6</td>\n",
       "    </tr>\n",
       "  </tbody>\n",
       "</table>\n",
       "</div>"
      ],
      "text/plain": [
       "                                                    Missing Values  \\\n",
       "Kuinka monena päivänä viimeisen kuukauden aikan...              16   \n",
       "Mikä seuraavista vastaa eniten musiikkimakuasi?                 10   \n",
       "Päivinä, jolloin käytät kannabista, kuinka palj...               9   \n",
       "Minkä ikäisenä käytit ensimmäistä kertaa kannab...               8   \n",
       "Mikä seuraavista kuvaa parhaiten syitäsi käyttä...               8   \n",
       "Missä maakunnassa asut?                                          7   \n",
       "Minkä ikäinen olet?                                              5   \n",
       "Mitä sukupuolta edustat?                                         4   \n",
       "Mikä on koulutustaustasi?                                        4   \n",
       "Minkä kokoisella paikkakunnalla asut?                            4   \n",
       "\n",
       "                                                    % of Total Values  \n",
       "Kuinka monena päivänä viimeisen kuukauden aikan...                6.5  \n",
       "Mikä seuraavista vastaa eniten musiikkimakuasi?                   4.0  \n",
       "Päivinä, jolloin käytät kannabista, kuinka palj...                3.6  \n",
       "Minkä ikäisenä käytit ensimmäistä kertaa kannab...                3.2  \n",
       "Mikä seuraavista kuvaa parhaiten syitäsi käyttä...                3.2  \n",
       "Missä maakunnassa asut?                                           2.8  \n",
       "Minkä ikäinen olet?                                               2.0  \n",
       "Mitä sukupuolta edustat?                                          1.6  \n",
       "Mikä on koulutustaustasi?                                         1.6  \n",
       "Minkä kokoisella paikkakunnalla asut?                             1.6  "
      ]
     },
     "execution_count": 6,
     "metadata": {},
     "output_type": "execute_result"
    }
   ],
   "source": [
    "missing_values_table(df)"
   ]
  },
  {
   "cell_type": "code",
   "execution_count": 7,
   "id": "994c43e0",
   "metadata": {},
   "outputs": [],
   "source": [
    "# helper function for replacing missing values\n",
    "# it is for mean and mode replacement but we will use KNN imputation\n",
    "\n",
    "import numpy\n",
    "import pandas \n",
    "\n",
    "from sklearn.base import TransformerMixin\n",
    "\n",
    "class SeriesImputer(TransformerMixin):\n",
    "\n",
    "    def __init__(self):\n",
    "        \"\"\"Impute missing values.\n",
    "\n",
    "        If the Series is of dtype Object, then impute with the most frequent object.\n",
    "        If the Series is not of dtype Object, then impute with the mean.  \n",
    "\n",
    "        \"\"\"\n",
    "    def fit(self, X, y=None):\n",
    "        if   X.dtype == numpy.dtype('O'): self.fill = X.value_counts().index[0]\n",
    "        else                            : self.fill = X.mean()\n",
    "        return self\n",
    "\n",
    "    def transform(self, X, y=None):\n",
    "       return X.fillna(self.fill)"
   ]
  },
  {
   "cell_type": "markdown",
   "id": "6d7deac4",
   "metadata": {},
   "source": [
    "## Gender"
   ]
  },
  {
   "cell_type": "code",
   "execution_count": 8,
   "id": "d81132b0",
   "metadata": {},
   "outputs": [
    {
     "data": {
      "text/plain": [
       "<AxesSubplot: >"
      ]
     },
     "execution_count": 8,
     "metadata": {},
     "output_type": "execute_result"
    },
    {
     "data": {
      "image/png": "[encoded data removed]",
      "text/plain": [
       "<Figure size 640x480 with 1 Axes>"
      ]
     },
     "metadata": {},
     "output_type": "display_data"
    }
   ],
   "source": [
    "#df['gender'] = np.where(df['Mitä sukupuolta edustat?']=='Nainen', 0, 1)\n",
    "df['gender']= df['Mitä sukupuolta edustat?']\n",
    "\n",
    "df.gender.value_counts(dropna=False).plot(kind='bar')"
   ]
  },
  {
   "cell_type": "code",
   "execution_count": 9,
   "id": "bc5a2a59",
   "metadata": {},
   "outputs": [
    {
     "name": "stdout",
     "output_type": "stream",
     "text": [
      "New Dimension: (243, 11)\n",
      "Mies                173\n",
      "Nainen               64\n",
      "En halua vastata      4\n",
      "Muu                   2\n",
      "Name: gender, dtype: int64\n"
     ]
    }
   ],
   "source": [
    "# Since it is gender, I prefer to remove the empty ones - only 4 cases\n",
    "df.dropna(subset=['gender'], how='all', inplace=True) # remove empty genders \n",
    "print('New Dimension:', df.shape)\n",
    "print(df.gender.value_counts(dropna=False))"
   ]
  },
  {
   "cell_type": "code",
   "execution_count": 10,
   "id": "81d37768",
   "metadata": {},
   "outputs": [],
   "source": [
    "# delete other and not want to declare since 6 cases consitute a small group\n",
    "indexgender = df[ (df.gender == 'En halua vastata') | (df.gender== 'Muu') ].index\n",
    "df.drop(indexgender , inplace=True)\n",
    "#df.head()"
   ]
  },
  {
   "cell_type": "code",
   "execution_count": 11,
   "id": "7df68cbb",
   "metadata": {},
   "outputs": [
    {
     "name": "stdout",
     "output_type": "stream",
     "text": [
      "final shape of the data: (237, 11)\n"
     ]
    },
    {
     "data": {
      "text/plain": [
       "Mies      173\n",
       "Nainen     64\n",
       "Name: gender, dtype: int64"
      ]
     },
     "execution_count": 11,
     "metadata": {},
     "output_type": "execute_result"
    }
   ],
   "source": [
    "print('final shape of the data:', df.shape)\n",
    "df.gender.value_counts(dropna=False)"
   ]
  },
  {
   "cell_type": "code",
   "execution_count": 12,
   "id": "960389e0",
   "metadata": {},
   "outputs": [
    {
     "data": {
      "text/plain": [
       "<AxesSubplot: >"
      ]
     },
     "execution_count": 12,
     "metadata": {},
     "output_type": "execute_result"
    },
    {
     "data": {
      "image/png": "[encoded data removed]",
      "text/plain": [
       "<Figure size 640x480 with 1 Axes>"
      ]
     },
     "metadata": {},
     "output_type": "display_data"
    }
   ],
   "source": [
    "a  = SeriesImputer()             # Initialize the imputer\n",
    "a.fit(df['gender'])              # Fit the imputer\n",
    "df['gender'] = a.transform(df['gender'])   # Get a new series\n",
    "df.gender.value_counts(dropna=False).plot(kind='bar')"
   ]
  },
  {
   "cell_type": "code",
   "execution_count": 13,
   "id": "c23b34b3",
   "metadata": {},
   "outputs": [],
   "source": [
    "#https://stackoverflow.com/questions/39109045/numpy-where-with-multiple-conditions\n",
    "\n",
    "def conditions(x):\n",
    "    if   x == 'Mies':   return \"Male\"\n",
    "    else:           return \"Female\"\n",
    "\n",
    "func = np.vectorize(conditions)\n",
    "gender_class = func(df[\"gender\"])\n",
    "\n",
    "df[\"gender\"] = gender_class\n",
    "#df.gendermap.value_counts(dropna=False).plot(kind='bar')"
   ]
  },
  {
   "cell_type": "code",
   "execution_count": 14,
   "id": "17c2a6b1",
   "metadata": {},
   "outputs": [
    {
     "data": {
      "text/plain": [
       "Male      173\n",
       "Female     64\n",
       "Name: gender, dtype: int64"
      ]
     },
     "execution_count": 14,
     "metadata": {},
     "output_type": "execute_result"
    }
   ],
   "source": [
    "df.gender.value_counts(dropna=False)"
   ]
  },
  {
   "cell_type": "code",
   "execution_count": 15,
   "id": "1b3d20ab",
   "metadata": {},
   "outputs": [
    {
     "data": {
      "text/plain": [
       "0    173\n",
       "1     64\n",
       "Name: gender_binary, dtype: int64"
      ]
     },
     "execution_count": 15,
     "metadata": {},
     "output_type": "execute_result"
    }
   ],
   "source": [
    "# here convert them in binary format, female is 1\n",
    "df['gender_binary'] = np.where(df.gender=='Female', 1, 0)\n",
    "df.gender_binary.value_counts()"
   ]
  },
  {
   "cell_type": "markdown",
   "id": "45c10912",
   "metadata": {},
   "source": [
    "## Age"
   ]
  },
  {
   "cell_type": "code",
   "execution_count": 16,
   "id": "171c9ae7",
   "metadata": {},
   "outputs": [
    {
     "name": "stdout",
     "output_type": "stream",
     "text": [
      "18 - 20    73\n",
      "21 - 23    50\n",
      "30 +       37\n",
      "24 - 26    31\n",
      "27 - 29    29\n",
      "15 - 17    16\n",
      "NaN         1\n",
      "Name: age, dtype: int64\n"
     ]
    },
    {
     "data": {
      "image/png": "[encoded data removed]",
      "text/plain": [
       "<Figure size 640x480 with 1 Axes>"
      ]
     },
     "metadata": {},
     "output_type": "display_data"
    }
   ],
   "source": [
    "df['age']= df['Minkä ikäinen olet?']\n",
    "df.age.value_counts(dropna=False).plot(kind='bar')\n",
    "print(df.age.value_counts(dropna=False))"
   ]
  },
  {
   "cell_type": "markdown",
   "id": "b7c83e0b",
   "metadata": {},
   "source": [
    "### Ordinal"
   ]
  },
  {
   "cell_type": "code",
   "execution_count": 17,
   "id": "b6d8654d",
   "metadata": {},
   "outputs": [
    {
     "data": {
      "text/plain": [
       "2.0    73\n",
       "3.0    50\n",
       "6.0    37\n",
       "4.0    31\n",
       "5.0    29\n",
       "1.0    16\n",
       "NaN     1\n",
       "Name: age_ordinal, dtype: int64"
      ]
     },
     "execution_count": 17,
     "metadata": {},
     "output_type": "execute_result"
    }
   ],
   "source": [
    "# map the age values to 0 and 1\n",
    "df['age_ordinal' ] = df.age.map ({'15 - 17':'1','18 - 20' :'2', '21 - 23' :'3', '24 - 26':'4', '27 - 29':'5', '30 +':'6'})\n",
    "#df['age_ordinal' ] = df['age_ordinal' ].astype(int)\n",
    "df['age_ordinal' ] = pd.to_numeric(df['age_ordinal' ])\n",
    "df.age_ordinal.value_counts(dropna=False)"
   ]
  },
  {
   "cell_type": "code",
   "execution_count": 18,
   "id": "67c9efda",
   "metadata": {
    "scrolled": false
   },
   "outputs": [
    {
     "data": {
      "text/plain": [
       "<AxesSubplot: >"
      ]
     },
     "execution_count": 18,
     "metadata": {},
     "output_type": "execute_result"
    },
    {
     "data": {
      "image/png": "[encoded data removed]",
      "text/plain": [
       "<Figure size 640x480 with 1 Axes>"
      ]
     },
     "metadata": {},
     "output_type": "display_data"
    }
   ],
   "source": [
    "#a  = SeriesImputer()             # Initialize the imputer\n",
    "#a.fit(df['age_ordinal'])              # Fit the imputer\n",
    "#df['age_ordinal'] = a.transform(df['age_ordinal'])   # Get a new series\n",
    "df.age_ordinal.value_counts(dropna=False).plot(kind='bar')"
   ]
  },
  {
   "cell_type": "markdown",
   "id": "cbc3e872",
   "metadata": {},
   "source": [
    "## Education"
   ]
  },
  {
   "cell_type": "code",
   "execution_count": 19,
   "id": "3d6b9f7a",
   "metadata": {},
   "outputs": [
    {
     "data": {
      "text/plain": [
       "<AxesSubplot: >"
      ]
     },
     "execution_count": 19,
     "metadata": {},
     "output_type": "execute_result"
    },
    {
     "data": {
      "image/png": "[encoded data removed]",
      "text/plain": [
       "<Figure size 640x480 with 1 Axes>"
      ]
     },
     "metadata": {},
     "output_type": "display_data"
    }
   ],
   "source": [
    "df['education'] = df['Mikä on koulutustaustasi?']\n",
    "df.education.value_counts(dropna=False).plot(kind='bar')"
   ]
  },
  {
   "cell_type": "code",
   "execution_count": 20,
   "id": "640ec225",
   "metadata": {},
   "outputs": [
    {
     "data": {
      "text/plain": [
       "<AxesSubplot: >"
      ]
     },
     "execution_count": 20,
     "metadata": {},
     "output_type": "execute_result"
    },
    {
     "data": {
      "image/png": "[encoded data removed]",
      "text/plain": [
       "<Figure size 640x480 with 1 Axes>"
      ]
     },
     "metadata": {},
     "output_type": "display_data"
    }
   ],
   "source": [
    "df['educationmap'] = df.education.map({\n",
    "    'Ammatillinen tutkinto': 'Vocational degree',\n",
    "    'Peruskoulu tai vähemmän':'Elementary school or less',\n",
    "    'Ylioppilastutkinto': 'Higher Education',\n",
    "    'Alempi ammmattikorkeakoulututkinto': 'Higher Education',\n",
    "    'Jokin muu, mikä': 'Elementary school or less', # other means nothing\n",
    "    'Ylempi korkeakoulututkinto': 'Higher Education',\n",
    "    'Akateeminen jatkotutkinto': 'Higher Education'\n",
    "})\n",
    "df.educationmap.value_counts(dropna=False).plot(kind='bar')"
   ]
  },
  {
   "cell_type": "code",
   "execution_count": 21,
   "id": "9cccc5c2",
   "metadata": {},
   "outputs": [
    {
     "data": {
      "text/plain": [
       "<AxesSubplot: >"
      ]
     },
     "execution_count": 21,
     "metadata": {},
     "output_type": "execute_result"
    },
    {
     "data": {
      "image/png": "[encoded data removed]",
      "text/plain": [
       "<Figure size 640x480 with 1 Axes>"
      ]
     },
     "metadata": {},
     "output_type": "display_data"
    }
   ],
   "source": [
    "#a  = SeriesImputer()             # Initialize the imputer\n",
    "#a.fit(df['educationmap'])              # Fit the imputer\n",
    "#df['educationmap'] = a.transform(df['educationmap'])   # Get a new series\n",
    "df.educationmap.value_counts(dropna=False).plot(kind='bar')"
   ]
  },
  {
   "cell_type": "code",
   "execution_count": 22,
   "id": "cafd2663",
   "metadata": {},
   "outputs": [
    {
     "data": {
      "text/plain": [
       "<AxesSubplot: >"
      ]
     },
     "execution_count": 22,
     "metadata": {},
     "output_type": "execute_result"
    },
    {
     "data": {
      "image/png": "[encoded data removed]",
      "text/plain": [
       "<Figure size 640x480 with 1 Axes>"
      ]
     },
     "metadata": {},
     "output_type": "display_data"
    }
   ],
   "source": [
    "df['education_ordinal'] = df.educationmap.map({\n",
    "    'Vocational degree': '2',\n",
    "    'Elementary school or less':'1',\n",
    "    'Higher Education': '3',\n",
    "    \n",
    "})\n",
    "\n",
    "df['education_ordinal'] = pd.to_numeric(df['education_ordinal'])\n",
    "\n",
    "\n",
    "df.education_ordinal.value_counts(dropna=False).plot(kind='bar')"
   ]
  },
  {
   "cell_type": "markdown",
   "id": "13245540",
   "metadata": {},
   "source": [
    "## city"
   ]
  },
  {
   "cell_type": "code",
   "execution_count": 23,
   "id": "d46f2ab3",
   "metadata": {},
   "outputs": [
    {
     "data": {
      "text/plain": [
       "<AxesSubplot: >"
      ]
     },
     "execution_count": 23,
     "metadata": {},
     "output_type": "execute_result"
    },
    {
     "data": {
      "image/png": "[encoded data removed]",
      "text/plain": [
       "<Figure size 640x480 with 1 Axes>"
      ]
     },
     "metadata": {},
     "output_type": "display_data"
    }
   ],
   "source": [
    "df['city'] = df['Minkä kokoisella paikkakunnalla asut?']\n",
    "\n",
    "df.city.value_counts(dropna= False).plot(kind='bar')"
   ]
  },
  {
   "cell_type": "code",
   "execution_count": 24,
   "id": "d3d51030",
   "metadata": {},
   "outputs": [
    {
     "data": {
      "text/plain": [
       "<AxesSubplot: >"
      ]
     },
     "execution_count": 24,
     "metadata": {},
     "output_type": "execute_result"
    },
    {
     "data": {
      "image/png": "[encoded data removed]",
      "text/plain": [
       "<Figure size 640x480 with 1 Axes>"
      ]
     },
     "metadata": {},
     "output_type": "display_data"
    }
   ],
   "source": [
    "df['citymap'] = df.city.map({\n",
    "    'Muu yli 100 000 asukkaan kaupunki': 'over 100K',\n",
    "    '50 000 - 100 000 asukkaan kaupunki':'50K -100K',\n",
    "    'Pienempi kaupunki': 'less than 50K',\n",
    "    'Pääkaupunkiseutu (Helsinki, Espoo, Vantaa, Kauniainen)': 'capital area',\n",
    "    'Maaseudun asutuskeskus tai taajama':'less than 50K',\n",
    "    'Muu maaseutu':'less than 50K'\n",
    "})\n",
    "\n",
    "df.citymap.value_counts(dropna= False).plot(kind='bar')"
   ]
  },
  {
   "cell_type": "code",
   "execution_count": 25,
   "id": "3170e191",
   "metadata": {},
   "outputs": [
    {
     "data": {
      "text/plain": [
       "<AxesSubplot: >"
      ]
     },
     "execution_count": 25,
     "metadata": {},
     "output_type": "execute_result"
    },
    {
     "data": {
      "image/png": "[encoded data removed]",
      "text/plain": [
       "<Figure size 640x480 with 1 Axes>"
      ]
     },
     "metadata": {},
     "output_type": "display_data"
    }
   ],
   "source": [
    "#a  = SeriesImputer()             # Initialize the imputer\n",
    "#a.fit(df['citymap'])              # Fit the imputer\n",
    "#df['citymap'] = a.transform(df['citymap'])   # Get a new series\n",
    "df.citymap.value_counts(dropna=False).plot(kind='bar')"
   ]
  },
  {
   "cell_type": "code",
   "execution_count": 26,
   "id": "a7711e3c",
   "metadata": {},
   "outputs": [
    {
     "data": {
      "text/plain": [
       "<AxesSubplot: >"
      ]
     },
     "execution_count": 26,
     "metadata": {},
     "output_type": "execute_result"
    },
    {
     "data": {
      "image/png": "[encoded data removed]",
      "text/plain": [
       "<Figure size 640x480 with 1 Axes>"
      ]
     },
     "metadata": {},
     "output_type": "display_data"
    }
   ],
   "source": [
    "df['city_ordinal'] = df.citymap.map({\n",
    "    'capital area': '4',\n",
    "    'over 100K':'3',\n",
    "    '50K -100K': '2',\n",
    "    'less than 50K': '1',\n",
    "})\n",
    "\n",
    "df['city_ordinal'] = pd.to_numeric(df['city_ordinal'])\n",
    "\n",
    "\n",
    "df.city_ordinal.value_counts(dropna= False).plot(kind='bar')"
   ]
  },
  {
   "cell_type": "markdown",
   "id": "4813672d",
   "metadata": {},
   "source": [
    "## Onset age"
   ]
  },
  {
   "cell_type": "code",
   "execution_count": 27,
   "id": "30a6cf37",
   "metadata": {},
   "outputs": [
    {
     "data": {
      "text/plain": [
       "<AxesSubplot: >"
      ]
     },
     "execution_count": 27,
     "metadata": {},
     "output_type": "execute_result"
    },
    {
     "data": {
      "image/png": "[encoded data removed]",
      "text/plain": [
       "<Figure size 640x480 with 1 Axes>"
      ]
     },
     "metadata": {},
     "output_type": "display_data"
    }
   ],
   "source": [
    "df['onset'] = df['Minkä ikäisenä käytit ensimmäistä kertaa kannabista?']\n",
    "df.onset.value_counts(dropna=False).plot(kind='bar')"
   ]
  },
  {
   "cell_type": "code",
   "execution_count": 28,
   "id": "4db8e967",
   "metadata": {},
   "outputs": [
    {
     "data": {
      "text/plain": [
       "<AxesSubplot: >"
      ]
     },
     "execution_count": 28,
     "metadata": {},
     "output_type": "execute_result"
    },
    {
     "data": {
      "image/png": "[encoded data removed]",
      "text/plain": [
       "<Figure size 640x480 with 1 Axes>"
      ]
     },
     "metadata": {},
     "output_type": "display_data"
    }
   ],
   "source": [
    "# there is a 1 onset age, I make it nan\n",
    "\n",
    "df['onset']= df['onset'].replace(1, np.nan)\n",
    "df.onset.value_counts(dropna=False).plot(kind='bar')"
   ]
  },
  {
   "cell_type": "code",
   "execution_count": 29,
   "id": "8fc179dd",
   "metadata": {},
   "outputs": [
    {
     "data": {
      "text/plain": [
       "count    231.000000\n",
       "mean      16.116883\n",
       "std        3.094065\n",
       "min        7.000000\n",
       "25%       14.000000\n",
       "50%       16.000000\n",
       "75%       17.000000\n",
       "max       34.000000\n",
       "Name: onset, dtype: float64"
      ]
     },
     "execution_count": 29,
     "metadata": {},
     "output_type": "execute_result"
    }
   ],
   "source": [
    "df['onset'].describe()"
   ]
  },
  {
   "cell_type": "code",
   "execution_count": 30,
   "id": "694b3fbc",
   "metadata": {},
   "outputs": [
    {
     "data": {
      "text/html": [
       "<div>\n",
       "<style scoped>\n",
       "    .dataframe tbody tr th:only-of-type {\n",
       "        vertical-align: middle;\n",
       "    }\n",
       "\n",
       "    .dataframe tbody tr th {\n",
       "        vertical-align: top;\n",
       "    }\n",
       "\n",
       "    .dataframe thead th {\n",
       "        text-align: right;\n",
       "    }\n",
       "</style>\n",
       "<table border=\"1\" class=\"dataframe\">\n",
       "  <thead>\n",
       "    <tr style=\"text-align: right;\">\n",
       "      <th></th>\n",
       "      <th>Minkä ikäinen olet?</th>\n",
       "      <th>Mitä sukupuolta edustat?</th>\n",
       "      <th>Mikä on koulutustaustasi?</th>\n",
       "      <th>Minkä kokoisella paikkakunnalla asut?</th>\n",
       "      <th>Missä maakunnassa asut?</th>\n",
       "      <th>Mikä seuraavista vastaa eniten musiikkimakuasi?</th>\n",
       "      <th>Minkä ikäisenä käytit ensimmäistä kertaa kannabista?</th>\n",
       "      <th>Kuinka monena päivänä viimeisen kuukauden aikana olet käyttänyt kannabista?</th>\n",
       "      <th>Päivinä, jolloin käytät kannabista, kuinka paljon tyypillisesti käytät ?(grammoissa, 0,1g-5g)</th>\n",
       "      <th>Mikä seuraavista kuvaa parhaiten syitäsi käyttää kannabista?</th>\n",
       "      <th>...</th>\n",
       "      <th>gender_binary</th>\n",
       "      <th>age</th>\n",
       "      <th>age_ordinal</th>\n",
       "      <th>education</th>\n",
       "      <th>educationmap</th>\n",
       "      <th>education_ordinal</th>\n",
       "      <th>city</th>\n",
       "      <th>citymap</th>\n",
       "      <th>city_ordinal</th>\n",
       "      <th>onset</th>\n",
       "    </tr>\n",
       "  </thead>\n",
       "  <tbody>\n",
       "    <tr>\n",
       "      <th>68</th>\n",
       "      <td>21 - 23</td>\n",
       "      <td>Mies</td>\n",
       "      <td>Peruskoulu tai vähemmän</td>\n",
       "      <td>Pääkaupunkiseutu (Helsinki, Espoo, Vantaa, Kau...</td>\n",
       "      <td>Uusimaa</td>\n",
       "      <td>Hip Hop / R 'n' b / Rap / Drill jne.</td>\n",
       "      <td>7.0</td>\n",
       "      <td>1 - 5</td>\n",
       "      <td>0.1</td>\n",
       "      <td>Käytän kannabista useimmiten itse-lääkinnällis...</td>\n",
       "      <td>...</td>\n",
       "      <td>0</td>\n",
       "      <td>21 - 23</td>\n",
       "      <td>3.0</td>\n",
       "      <td>Peruskoulu tai vähemmän</td>\n",
       "      <td>Elementary school or less</td>\n",
       "      <td>1</td>\n",
       "      <td>Pääkaupunkiseutu (Helsinki, Espoo, Vantaa, Kau...</td>\n",
       "      <td>capital area</td>\n",
       "      <td>4</td>\n",
       "      <td>7.0</td>\n",
       "    </tr>\n",
       "    <tr>\n",
       "      <th>245</th>\n",
       "      <td>18 - 20</td>\n",
       "      <td>Nainen</td>\n",
       "      <td>Jokin muu, mikä</td>\n",
       "      <td>Muu yli 100 000 asukkaan kaupunki</td>\n",
       "      <td>Varsinais-Suomi</td>\n",
       "      <td>Elektro</td>\n",
       "      <td>7.0</td>\n",
       "      <td>5 - 10</td>\n",
       "      <td>0.5</td>\n",
       "      <td>Käytän kannabista toisinaan itse-lääkinnällisi...</td>\n",
       "      <td>...</td>\n",
       "      <td>1</td>\n",
       "      <td>18 - 20</td>\n",
       "      <td>2.0</td>\n",
       "      <td>Jokin muu, mikä</td>\n",
       "      <td>Elementary school or less</td>\n",
       "      <td>1</td>\n",
       "      <td>Muu yli 100 000 asukkaan kaupunki</td>\n",
       "      <td>over 100K</td>\n",
       "      <td>3</td>\n",
       "      <td>7.0</td>\n",
       "    </tr>\n",
       "  </tbody>\n",
       "</table>\n",
       "<p>2 rows × 21 columns</p>\n",
       "</div>"
      ],
      "text/plain": [
       "    Minkä ikäinen olet? Mitä sukupuolta edustat? Mikä on koulutustaustasi?  \\\n",
       "68              21 - 23                     Mies   Peruskoulu tai vähemmän   \n",
       "245             18 - 20                   Nainen           Jokin muu, mikä   \n",
       "\n",
       "                 Minkä kokoisella paikkakunnalla asut?  \\\n",
       "68   Pääkaupunkiseutu (Helsinki, Espoo, Vantaa, Kau...   \n",
       "245                  Muu yli 100 000 asukkaan kaupunki   \n",
       "\n",
       "    Missä maakunnassa asut? Mikä seuraavista vastaa eniten musiikkimakuasi?  \\\n",
       "68                  Uusimaa            Hip Hop / R 'n' b / Rap / Drill jne.   \n",
       "245         Varsinais-Suomi                                         Elektro   \n",
       "\n",
       "     Minkä ikäisenä käytit ensimmäistä kertaa kannabista?  \\\n",
       "68                                                 7.0      \n",
       "245                                                7.0      \n",
       "\n",
       "    Kuinka monena päivänä viimeisen kuukauden aikana olet käyttänyt kannabista?  \\\n",
       "68                                               1 - 5                            \n",
       "245                                             5 - 10                            \n",
       "\n",
       "    Päivinä, jolloin käytät kannabista, kuinka paljon tyypillisesti käytät ?(grammoissa, 0,1g-5g)  \\\n",
       "68                                                 0.1                                              \n",
       "245                                                0.5                                              \n",
       "\n",
       "    Mikä seuraavista kuvaa parhaiten syitäsi käyttää kannabista?  ...  \\\n",
       "68   Käytän kannabista useimmiten itse-lääkinnällis...            ...   \n",
       "245  Käytän kannabista toisinaan itse-lääkinnällisi...            ...   \n",
       "\n",
       "    gender_binary      age age_ordinal                education  \\\n",
       "68              0  21 - 23         3.0  Peruskoulu tai vähemmän   \n",
       "245             1  18 - 20         2.0          Jokin muu, mikä   \n",
       "\n",
       "                  educationmap education_ordinal  \\\n",
       "68   Elementary school or less                 1   \n",
       "245  Elementary school or less                 1   \n",
       "\n",
       "                                                  city       citymap  \\\n",
       "68   Pääkaupunkiseutu (Helsinki, Espoo, Vantaa, Kau...  capital area   \n",
       "245                  Muu yli 100 000 asukkaan kaupunki     over 100K   \n",
       "\n",
       "    city_ordinal  onset  \n",
       "68             4    7.0  \n",
       "245            3    7.0  \n",
       "\n",
       "[2 rows x 21 columns]"
      ]
     },
     "execution_count": 30,
     "metadata": {},
     "output_type": "execute_result"
    }
   ],
   "source": [
    "df[df['onset']==7]"
   ]
  },
  {
   "cell_type": "markdown",
   "id": "f9b139e3",
   "metadata": {},
   "source": [
    "## Montly use"
   ]
  },
  {
   "cell_type": "code",
   "execution_count": 31,
   "id": "5617685f",
   "metadata": {
    "scrolled": false
   },
   "outputs": [
    {
     "data": {
      "text/plain": [
       "<AxesSubplot: >"
      ]
     },
     "execution_count": 31,
     "metadata": {},
     "output_type": "execute_result"
    },
    {
     "data": {
      "image/png": "[encoded data removed]",
      "text/plain": [
       "<Figure size 640x480 with 1 Axes>"
      ]
     },
     "metadata": {},
     "output_type": "display_data"
    }
   ],
   "source": [
    "df['monthlymap'] = df['Kuinka monena päivänä viimeisen kuukauden aikana olet käyttänyt kannabista?']\n",
    "df.monthlymap.value_counts(dropna=False).plot(kind='bar')"
   ]
  },
  {
   "cell_type": "code",
   "execution_count": 32,
   "id": "7dac1d75",
   "metadata": {},
   "outputs": [
    {
     "data": {
      "text/plain": [
       "<AxesSubplot: >"
      ]
     },
     "execution_count": 32,
     "metadata": {},
     "output_type": "execute_result"
    },
    {
     "data": {
      "image/png": "[encoded data removed]",
      "text/plain": [
       "<Figure size 640x480 with 1 Axes>"
      ]
     },
     "metadata": {},
     "output_type": "display_data"
    }
   ],
   "source": [
    "#a  = SeriesImputer()             # Initialize the imputer\n",
    "#a.fit(df['monthlymap'])              # Fit the imputer\n",
    "#df['monthlymap'] = a.transform(df['monthlymap'])   # Get a new series\n",
    "df.monthlymap.value_counts(dropna=False).plot(kind='bar')"
   ]
  },
  {
   "cell_type": "code",
   "execution_count": 33,
   "id": "deb033be",
   "metadata": {},
   "outputs": [
    {
     "data": {
      "text/plain": [
       "1 - 5      81\n",
       "20 - 30    55\n",
       "5 - 10     50\n",
       "10 - 20    38\n",
       "Name: monthlymap, dtype: int64"
      ]
     },
     "execution_count": 33,
     "metadata": {},
     "output_type": "execute_result"
    }
   ],
   "source": [
    "df.monthlymap.value_counts()"
   ]
  },
  {
   "cell_type": "code",
   "execution_count": 34,
   "id": "ebedc3b2",
   "metadata": {},
   "outputs": [
    {
     "data": {
      "text/plain": [
       "<AxesSubplot: >"
      ]
     },
     "execution_count": 34,
     "metadata": {},
     "output_type": "execute_result"
    },
    {
     "data": {
      "image/png": "[encoded data removed]",
      "text/plain": [
       "<Figure size 640x480 with 1 Axes>"
      ]
     },
     "metadata": {},
     "output_type": "display_data"
    }
   ],
   "source": [
    "df['monthly_ordinal'] = df.monthlymap.map({\n",
    "    '1 - 5': '1',\n",
    "    '5 - 10':'2',\n",
    "    '10 - 20': '3',\n",
    "    '20 - 30': '4',\n",
    "})\n",
    "\n",
    "df['monthly_ordinal'] = pd.to_numeric(df['monthly_ordinal'])\n",
    "\n",
    "\n",
    "df.monthly_ordinal.value_counts(dropna= False).plot(kind='bar')"
   ]
  },
  {
   "cell_type": "markdown",
   "id": "927ccc65",
   "metadata": {},
   "source": [
    "## Amount"
   ]
  },
  {
   "cell_type": "code",
   "execution_count": 35,
   "id": "1fff43bc",
   "metadata": {
    "scrolled": false
   },
   "outputs": [
    {
     "data": {
      "text/plain": [
       "<AxesSubplot: >"
      ]
     },
     "execution_count": 35,
     "metadata": {},
     "output_type": "execute_result"
    },
    {
     "data": {
      "image/png": "[encoded data removed]",
      "text/plain": [
       "<Figure size 640x480 with 1 Axes>"
      ]
     },
     "metadata": {},
     "output_type": "display_data"
    }
   ],
   "source": [
    "df['amount'] = df['Päivinä, jolloin käytät kannabista, kuinka paljon tyypillisesti käytät ?(grammoissa, 0,1g-5g)'].astype('str')\n",
    "df.amount.value_counts(dropna=False).plot(kind='bar')"
   ]
  },
  {
   "cell_type": "code",
   "execution_count": 36,
   "id": "c34143f7",
   "metadata": {},
   "outputs": [
    {
     "data": {
      "text/plain": [
       "<AxesSubplot: >"
      ]
     },
     "execution_count": 36,
     "metadata": {},
     "output_type": "execute_result"
    },
    {
     "data": {
      "image/png": "[encoded data removed]",
      "text/plain": [
       "<Figure size 640x480 with 1 Axes>"
      ]
     },
     "metadata": {},
     "output_type": "display_data"
    }
   ],
   "source": [
    "df['amount_ordinal'] = df.amount.map({'0.1': '1',\n",
    "                                '0.2': '2',\n",
    "                                '0.3': '3',\n",
    "                                '0.4': '4',\n",
    "                                '0.5': '5',\n",
    "                                '0.6': '6',\n",
    "                                '0.7': '7',\n",
    "                                '0.8': '8',\n",
    "                                '0.9': '9',\n",
    "                                '1': '10',\n",
    "                                '1.5': '11',\n",
    "                                '2': '12',\n",
    "                                '2.5': '13',\n",
    "                                '3': '14',\n",
    "                                '3.5': '15',\n",
    "                                '4': '16',\n",
    "                                '4.5': '17',\n",
    "                                '5': '18',\n",
    "                                'Enammän': '19'\n",
    "                              \n",
    "                               })\n",
    "df.amount_ordinal.value_counts(dropna=False).plot(kind='bar')"
   ]
  },
  {
   "cell_type": "code",
   "execution_count": 37,
   "id": "7b2b68cd",
   "metadata": {},
   "outputs": [
    {
     "data": {
      "text/plain": [
       "<AxesSubplot: >"
      ]
     },
     "execution_count": 37,
     "metadata": {},
     "output_type": "execute_result"
    },
    {
     "data": {
      "image/png": "[encoded data removed]",
      "text/plain": [
       "<Figure size 640x480 with 1 Axes>"
      ]
     },
     "metadata": {},
     "output_type": "display_data"
    }
   ],
   "source": [
    "#a  = SeriesImputer()             # Initialize the imputer\n",
    "#a.fit(df['amount_ordinal'])              # Fit the imputer\n",
    "#df['amount_ordinal'] = a.transform(df['amount_ordinal'])   # Get a new series\n",
    "\n",
    "df['amount_ordinal'] = pd.to_numeric(df['amount_ordinal'])\n",
    "\n",
    "df.amount_ordinal.value_counts(dropna=False).plot(kind='bar')"
   ]
  },
  {
   "cell_type": "markdown",
   "id": "db39911d",
   "metadata": {},
   "source": [
    "## Dependent variable"
   ]
  },
  {
   "cell_type": "code",
   "execution_count": 38,
   "id": "23b8a89b",
   "metadata": {
    "scrolled": false
   },
   "outputs": [
    {
     "data": {
      "text/plain": [
       "<AxesSubplot: >"
      ]
     },
     "execution_count": 38,
     "metadata": {},
     "output_type": "execute_result"
    },
    {
     "data": {
      "image/png": "[encoded data removed]",
      "text/plain": [
       "<Figure size 640x480 with 1 Axes>"
      ]
     },
     "metadata": {},
     "output_type": "display_data"
    }
   ],
   "source": [
    "df['reason']=df['Mikä seuraavista kuvaa parhaiten syitäsi käyttää kannabista?']\n",
    "df.reason.value_counts(dropna=False).plot(kind='bar')"
   ]
  },
  {
   "cell_type": "code",
   "execution_count": 39,
   "id": "2862ea14",
   "metadata": {},
   "outputs": [],
   "source": [
    "df['cannabis'] = df.reason.map({\n",
    "     'Käytän kannabista ainoastaan viihdetarkoituksessa (nautinto)' : '0',\n",
    "    'Käytän kannabista toisinaan itse-lääkinnällisiin tarkoituksiin ja useimmiten viihdetarkoituksessa.': '0',\n",
    "    'Käytän kannabista useimmiten itse-lääkinnällisiin tarkoituksiin ja toisinaan viihdetarkoituksessa.' : '1',\n",
    "    'Käytän kannabista ainoastaan itse-lääkinnällisiin tarkoituksiin.': '1',\n",
    "                              \n",
    "                               })"
   ]
  },
  {
   "cell_type": "code",
   "execution_count": 40,
   "id": "5025e42d",
   "metadata": {
    "scrolled": false
   },
   "outputs": [
    {
     "data": {
      "text/plain": [
       "<AxesSubplot: >"
      ]
     },
     "execution_count": 40,
     "metadata": {},
     "output_type": "execute_result"
    },
    {
     "data": {
      "image/png": "[encoded data removed]",
      "text/plain": [
       "<Figure size 640x480 with 1 Axes>"
      ]
     },
     "metadata": {},
     "output_type": "display_data"
    }
   ],
   "source": [
    "df.cannabis.value_counts().plot(kind='bar')"
   ]
  },
  {
   "cell_type": "code",
   "execution_count": 41,
   "id": "a1d090d1",
   "metadata": {},
   "outputs": [
    {
     "data": {
      "text/plain": [
       "0.0    159\n",
       "1.0     73\n",
       "Name: cannabis, dtype: int64"
      ]
     },
     "execution_count": 41,
     "metadata": {},
     "output_type": "execute_result"
    }
   ],
   "source": [
    "df['cannabis'] = pd.to_numeric(df['cannabis'])\n",
    "\n",
    "df.cannabis.value_counts()"
   ]
  },
  {
   "cell_type": "markdown",
   "id": "740baf9e",
   "metadata": {},
   "source": [
    "# Final process"
   ]
  },
  {
   "cell_type": "code",
   "execution_count": 42,
   "id": "60799ac5",
   "metadata": {},
   "outputs": [
    {
     "name": "stdout",
     "output_type": "stream",
     "text": [
      "Your selected dataframe has 8 columns.\n",
      "There are 5 columns that have missing values.\n"
     ]
    },
    {
     "data": {
      "text/html": [
       "<div>\n",
       "<style scoped>\n",
       "    .dataframe tbody tr th:only-of-type {\n",
       "        vertical-align: middle;\n",
       "    }\n",
       "\n",
       "    .dataframe tbody tr th {\n",
       "        vertical-align: top;\n",
       "    }\n",
       "\n",
       "    .dataframe thead th {\n",
       "        text-align: right;\n",
       "    }\n",
       "</style>\n",
       "<table border=\"1\" class=\"dataframe\">\n",
       "  <thead>\n",
       "    <tr style=\"text-align: right;\">\n",
       "      <th></th>\n",
       "      <th>Missing Values</th>\n",
       "      <th>% of Total Values</th>\n",
       "    </tr>\n",
       "  </thead>\n",
       "  <tbody>\n",
       "    <tr>\n",
       "      <th>monthly_ordinal</th>\n",
       "      <td>13</td>\n",
       "      <td>5.5</td>\n",
       "    </tr>\n",
       "    <tr>\n",
       "      <th>amount_ordinal</th>\n",
       "      <td>7</td>\n",
       "      <td>3.0</td>\n",
       "    </tr>\n",
       "    <tr>\n",
       "      <th>onset</th>\n",
       "      <td>6</td>\n",
       "      <td>2.5</td>\n",
       "    </tr>\n",
       "    <tr>\n",
       "      <th>cannabis</th>\n",
       "      <td>5</td>\n",
       "      <td>2.1</td>\n",
       "    </tr>\n",
       "    <tr>\n",
       "      <th>age_ordinal</th>\n",
       "      <td>1</td>\n",
       "      <td>0.4</td>\n",
       "    </tr>\n",
       "  </tbody>\n",
       "</table>\n",
       "</div>"
      ],
      "text/plain": [
       "                 Missing Values  % of Total Values\n",
       "monthly_ordinal              13                5.5\n",
       "amount_ordinal                7                3.0\n",
       "onset                         6                2.5\n",
       "cannabis                      5                2.1\n",
       "age_ordinal                   1                0.4"
      ]
     },
     "execution_count": 42,
     "metadata": {},
     "output_type": "execute_result"
    }
   ],
   "source": [
    "data = df[['cannabis','age_ordinal','gender_binary','education_ordinal','city_ordinal', 'onset', 'monthly_ordinal','amount_ordinal']]\n",
    "missing_values_table(data)"
   ]
  },
  {
   "cell_type": "code",
   "execution_count": 43,
   "id": "a56b01b0",
   "metadata": {},
   "outputs": [
    {
     "data": {
      "text/plain": [
       "cannabis             float64\n",
       "age_ordinal          float64\n",
       "gender_binary          int64\n",
       "education_ordinal      int64\n",
       "city_ordinal           int64\n",
       "onset                float64\n",
       "monthly_ordinal      float64\n",
       "amount_ordinal       float64\n",
       "dtype: object"
      ]
     },
     "execution_count": 43,
     "metadata": {},
     "output_type": "execute_result"
    }
   ],
   "source": [
    "data.dtypes"
   ]
  },
  {
   "cell_type": "markdown",
   "id": "b92bbba7",
   "metadata": {},
   "source": [
    "## Missing data imputation\n",
    "\n",
    "Missing value imputation isn’t that difficult of a task to do. Methods range from simple mean imputation and complete removing of the observation to more advanced techniques like MICE. The kNN algorithm is a nonparametric method used for classification and regression. In both cases, the input consists of the k-closest training examples in the feature space. The output depends on whether kNN is used for classification or regression. In kNN classification, an object is classified by a plurality vote of its neighbors, and the object is assigned to the class most common among its k-nearest neighbors. In kNN regression, the output is the average of the values of k-nearest neighbors. "
   ]
  },
  {
   "cell_type": "code",
   "execution_count": 44,
   "id": "172c3224",
   "metadata": {},
   "outputs": [
    {
     "name": "stdout",
     "output_type": "stream",
     "text": [
      "Your selected dataframe has 8 columns.\n",
      "There are 0 columns that have missing values.\n"
     ]
    },
    {
     "data": {
      "text/html": [
       "<div>\n",
       "<style scoped>\n",
       "    .dataframe tbody tr th:only-of-type {\n",
       "        vertical-align: middle;\n",
       "    }\n",
       "\n",
       "    .dataframe tbody tr th {\n",
       "        vertical-align: top;\n",
       "    }\n",
       "\n",
       "    .dataframe thead th {\n",
       "        text-align: right;\n",
       "    }\n",
       "</style>\n",
       "<table border=\"1\" class=\"dataframe\">\n",
       "  <thead>\n",
       "    <tr style=\"text-align: right;\">\n",
       "      <th></th>\n",
       "      <th>Missing Values</th>\n",
       "      <th>% of Total Values</th>\n",
       "    </tr>\n",
       "  </thead>\n",
       "  <tbody>\n",
       "  </tbody>\n",
       "</table>\n",
       "</div>"
      ],
      "text/plain": [
       "Empty DataFrame\n",
       "Columns: [Missing Values, % of Total Values]\n",
       "Index: []"
      ]
     },
     "execution_count": 44,
     "metadata": {},
     "output_type": "execute_result"
    }
   ],
   "source": [
    "# https://www.kaggle.com/code/mitramir5/missing-values-ordinal-data-and-stories\n",
    "from sklearn.experimental import enable_iterative_imputer  \n",
    "\n",
    "from sklearn.impute import IterativeImputer\n",
    "from sklearn.linear_model import BayesianRidge\n",
    "from sklearn.tree import DecisionTreeRegressor\n",
    "from sklearn.ensemble import ExtraTreesRegressor\n",
    "from sklearn.neighbors import KNeighborsRegressor\n",
    "\n",
    "estimators = [\n",
    "    BayesianRidge(),\n",
    "    DecisionTreeRegressor(max_features='sqrt', random_state=0),\n",
    "    ExtraTreesRegressor(n_estimators=10, random_state=0),\n",
    "    KNeighborsRegressor(n_neighbors=15)\n",
    "]\n",
    "\n",
    "imputer = IterativeImputer(random_state=0, estimator=estimators[1])\n",
    "imputer.fit(data)\n",
    "imputed_df = pd.DataFrame(imputer.transform(data))\n",
    "imputed_df.columns = data.columns\n",
    "imputed_df.name = 'imputed'\n",
    "missing_values_table(imputed_df)"
   ]
  },
  {
   "cell_type": "code",
   "execution_count": 45,
   "id": "9d91948d",
   "metadata": {},
   "outputs": [],
   "source": [
    "# convert column \"a\" to int64 dtype and \"b\" to complex type\n",
    "#data = data.astype({\"age_ordinal\": int, \"education_ordinal\": int, \"monthly_ordinal\": int,\"amount_ordinal\": int,\"city_ordinal\": int, })"
   ]
  },
  {
   "cell_type": "code",
   "execution_count": 46,
   "id": "bc82f9ac",
   "metadata": {},
   "outputs": [
    {
     "data": {
      "text/plain": [
       "cannabis             0\n",
       "age_ordinal          0\n",
       "gender_binary        0\n",
       "education_ordinal    0\n",
       "city_ordinal         0\n",
       "onset                0\n",
       "monthly_ordinal      0\n",
       "amount_ordinal       0\n",
       "dtype: int64"
      ]
     },
     "execution_count": 46,
     "metadata": {},
     "output_type": "execute_result"
    }
   ],
   "source": [
    "imputed_df.isnull().sum()"
   ]
  },
  {
   "cell_type": "code",
   "execution_count": 47,
   "id": "82e9f25c",
   "metadata": {},
   "outputs": [
    {
     "data": {
      "text/plain": [
       "cannabis             float64\n",
       "age_ordinal          float64\n",
       "gender_binary        float64\n",
       "education_ordinal    float64\n",
       "city_ordinal         float64\n",
       "onset                float64\n",
       "monthly_ordinal      float64\n",
       "amount_ordinal       float64\n",
       "dtype: object"
      ]
     },
     "execution_count": 47,
     "metadata": {},
     "output_type": "execute_result"
    }
   ],
   "source": [
    "imputed_df.dtypes"
   ]
  },
  {
   "cell_type": "code",
   "execution_count": 48,
   "id": "3ff44117",
   "metadata": {},
   "outputs": [
    {
     "name": "stdout",
     "output_type": "stream",
     "text": [
      "0.0    159\n",
      "1.0     73\n",
      "NaN      5\n",
      "Name: cannabis, dtype: int64\n",
      "0.0    161\n",
      "1.0     76\n",
      "Name: cannabis, dtype: int64\n"
     ]
    }
   ],
   "source": [
    "# re-check the final outcomes of dependent variable\n",
    "print(data.cannabis.value_counts(dropna=False))\n",
    "print(imputed_df.cannabis.value_counts())"
   ]
  },
  {
   "cell_type": "code",
   "execution_count": 49,
   "id": "c45d21c4",
   "metadata": {},
   "outputs": [
    {
     "name": "stdout",
     "output_type": "stream",
     "text": [
      "1.0    81\n",
      "4.0    55\n",
      "2.0    50\n",
      "3.0    38\n",
      "NaN    13\n",
      "Name: monthly_ordinal, dtype: int64\n",
      "1.0    87\n",
      "4.0    57\n",
      "2.0    51\n",
      "3.0    42\n",
      "Name: monthly_ordinal, dtype: int64\n"
     ]
    }
   ],
   "source": [
    "# another independent variable check\n",
    "print(data.monthly_ordinal.value_counts(dropna=False))\n",
    "print(imputed_df.monthly_ordinal.value_counts())"
   ]
  },
  {
   "cell_type": "code",
   "execution_count": 50,
   "id": "f47d3578",
   "metadata": {},
   "outputs": [],
   "source": [
    "imputed_df.to_csv('data/processed.csv')"
   ]
  },
  {
   "cell_type": "markdown",
   "id": "14de25eb",
   "metadata": {},
   "source": [
    "# Chi-Square test\n",
    "\n",
    "Normally we are planning to use independent variables as continous variable except gender, I also check their distribution in chi-square since they are categorical/ordinal at origins. "
   ]
  },
  {
   "cell_type": "code",
   "execution_count": 51,
   "id": "2ae79139",
   "metadata": {},
   "outputs": [],
   "source": [
    "# https://pythonfordatascienceorg.wordpress.com/chi-square-python/\n",
    "from scipy import stats\n",
    "\n",
    "# To get row proportions, pass ‘Row’ into the “prop= ” argument for the function\n",
    "# To get col proportions, pass ‘Col’ into the “prop= ”\n",
    "# like, prop= 'Row'\n",
    "# else it is False.\n",
    "\n",
    "\n",
    "def chi2_table(series1, series2, to_csv = False, csv_name = None, prop= 'Row'):\n",
    "    \n",
    "    if type(series1) != list:\n",
    "        crosstab = pd.crosstab(series1, series2)\n",
    "        crosstab2 = pd.crosstab(series1, series2, margins= True)\n",
    "        crosstab_proprow = round(crosstab2.div(crosstab2.iloc[:,-1], axis=0).mul(100, axis=0), 2)\n",
    "        crosstab_propcol = round(crosstab2.div(crosstab2.iloc[-1,:], axis=1).mul(100, axis=1), 2)\n",
    "        chi2, p, dof, expected = stats.chi2_contingency(crosstab)\n",
    "        \n",
    "        if prop == False:\n",
    "            print(\"\\n\",\n",
    "          f\"Chi-Square test between \" + series1.name + \" and \" + series2.name,\n",
    "          \"\\n\", \"\\n\",\n",
    "          crosstab2,\n",
    "          \"\\n\", \"\\n\",\n",
    "          f\"Pearson Chi2({dof})= {chi2:.4f} p-value= {p:.4f}\")\n",
    "            \n",
    "            if to_csv == True:\n",
    "                if csv_name == None:\n",
    "                    csv_name = f\"{series2.name}.csv\"\n",
    "                                             \n",
    "                file = open(csv_name, 'a')\n",
    "                file.write(f\"{crosstab2.columns.name}\\n\")\n",
    "                file.close()\n",
    "                crosstab2.to_csv(csv_name, header= True, mode= 'a')\n",
    "                file = open(csv_name, 'a')\n",
    "                file.write(f\"Pearson Chi2({dof})= {chi2:.4f} p-value= {p:.4f}\")\n",
    "                file.write(\"\\n\")\n",
    "                file.close()              \n",
    "                \n",
    "        if prop == 'Row':\n",
    "            print(\"\\n\",\n",
    "          f\"Chi-Square test between \" + series1.name + \" and \" + series2.name,\n",
    "          \"\\n\", \"\\n\",\n",
    "          crosstab_proprow,\n",
    "          \"\\n\", \"\\n\",\n",
    "          f\"Pearson Chi2({dof})= {chi2:.4f} p-value= {p:.4f}\")\n",
    "            \n",
    "            if to_csv == True:\n",
    "                if csv_name == None:\n",
    "                    csv_name = f\"{series2.name}.csv\"\n",
    "                \n",
    "                file = open(csv_name, 'a')\n",
    "                file.write(f\"{crosstab_proprow.columns.name}\\n\")\n",
    "                file.close()\n",
    "                crosstab_proprow.to_csv(csv_name, header= True, mode= 'a')\n",
    "                file = open(csv_name, 'a')\n",
    "                file.write(f\"Pearson Chi2({dof})= {chi2:.4f} p-value= {p:.4f}\")\n",
    "                file.write(\"\\n\")\n",
    "                file.close()\n",
    "\n",
    "        if prop == 'Col':\n",
    "            print(\"\\n\",\n",
    "          f\"Chi-Square test between \" + series1.name + \" and \" + series2.name,\n",
    "          \"\\n\", \"\\n\",\n",
    "          crosstab_propcol,\n",
    "          \"\\n\", \"\\n\",\n",
    "          f\"Pearson Chi2({dof})= {chi2:.4f} p-value= {p:.4f}\")\n",
    "\n",
    "            if to_csv == True:\n",
    "                if csv_name == None:\n",
    "                    csv_name = f\"{series2.name}.csv\"\n",
    "                    \n",
    "                file = open(csv_name, 'a')\n",
    "                file.write(f\"{crosstab_propcol.columns.name}\\n\")\n",
    "                file.close()\n",
    "                crosstab_propcol.to_csv(csv_name, header= True, mode= 'a')\n",
    "                file = open(csv_name, 'a')\n",
    "                file.write(f\"Pearson Chi2({dof})= {chi2:.4f} p-value= {p:.4f}\")\n",
    "                file.write(\"\\n\")\n",
    "                file.close()\n",
    "\n",
    "    elif type(series1) == list and type(series2) == list:\n",
    "        for entry2 in series2:\n",
    "            for entry1 in series1:\n",
    "                crosstab = pd.crosstab(entry1, entry2)\n",
    "                crosstab2 = pd.crosstab(entry1, entry2, margins= True)\n",
    "                crosstab_proprow = round(crosstab2.div(crosstab2.iloc[:,-1], axis=0).mul(100, axis=0), 2)\n",
    "                crosstab_propcol = round(crosstab2.div(crosstab2.iloc[-1,:], axis=1).mul(100, axis=1), 2)\n",
    "                chi2, p, dof, expected = stats.chi2_contingency(crosstab)\n",
    "                \n",
    "                if prop == False:\n",
    "            \n",
    "                    print(\"\\n\",\n",
    "          f\"Chi-Square test between \" + entry1.name + \" and \" + entry2.name,\n",
    "          \"\\n\", \"\\n\",\n",
    "          crosstab2,\n",
    "          \"\\n\", \"\\n\",\n",
    "          f\"Pearson Chi2({dof})= {chi2:.4f} p-value= {p:.4f}\")\n",
    "            \n",
    "                    if to_csv == True:\n",
    "                        \n",
    "                        file = open(\"%s.csv\" %(entry2.name), 'a')\n",
    "                        file.write(f\"{crosstab2.columns.name}\\n\")\n",
    "                        file.close()\n",
    "                        crosstab2.to_csv(\"%s.csv\" %(entry2.name), header= True, mode= 'a')\n",
    "                        file = open(\"%s.csv\" %(entry2.name), 'a')\n",
    "                        file.write(f\"Pearson Chi2({dof})= {chi2:.4f} p-value= {p:.4f}\")\n",
    "                        file.write(\"\\n\")\n",
    "                        file.close()                        \n",
    "\n",
    "                if prop == 'Row':\n",
    "            \n",
    "                    print(\"\\n\",\n",
    "          f\"Chi-Square test between \" + entry1.name + \" and \" + entry2.name,\n",
    "          \"\\n\", \"\\n\",\n",
    "          crosstab_proprow,\n",
    "          \"\\n\", \"\\n\",\n",
    "          f\"Pearson Chi2({dof})= {chi2:.4f} p-value= {p:.4f}\")\n",
    "            \n",
    "                    if to_csv == True:\n",
    "                        file = open(\"%s.csv\" %(entry2.name), 'a')\n",
    "                        file.write(f\"{crosstab_proprow.columns.name}\\n\")\n",
    "                        file.close()\n",
    "                        crosstab_proprow.to_csv(\"%s.csv\" %(entry2.name), header= True, mode= 'a')\n",
    "                        file = open(\"%s.csv\" %(entry2.name), 'a')\n",
    "                        file.write(f\"Pearson Chi2({dof})= {chi2:.4f} p-value= {p:.4f}\")\n",
    "                        file.write(\"\\n\")\n",
    "                        file.close()\n",
    "                    \n",
    "                if prop == 'Col':\n",
    "            \n",
    "                    print(\"\\n\",\n",
    "          f\"Chi-Square test between \" + entry1.name + \" and \" + entry2.name,\n",
    "          \"\\n\", \"\\n\",\n",
    "          crosstab_propcol,\n",
    "          \"\\n\", \"\\n\",\n",
    "          f\"Pearson Chi2({dof})= {chi2:.4f} p-value= {p:.4f}\")\n",
    "            \n",
    "                    if to_csv == True:\n",
    "                        file = open(\"%s.csv\" %(entry2.name), 'a')\n",
    "                        file.write(f\"{crosstab_propcol.columns.name}\\n\")\n",
    "                        file.close()\n",
    "                        crosstab_propcol.to_csv(\"%s.csv\" %(entry2.name), header= True, mode= 'a')\n",
    "                        file = open(\"%s.csv\" %(entry2.name), 'a')\n",
    "                        file.write(f\"Pearson Chi2({dof})= {chi2:.4f} p-value= {p:.4f}\")\n",
    "                        file.write(\"\\n\")\n",
    "                        file.close()\n",
    "\n",
    "\n",
    "    elif type(series1) == list:\n",
    "        for entry in series1:\n",
    "            crosstab = pd.crosstab(entry, series2)\n",
    "            crosstab2 = pd.crosstab(entry, series2, margins= True)\n",
    "            crosstab_proprow = round(crosstab2.div(crosstab2.iloc[:,-1], axis=0).mul(100, axis=0), 2)\n",
    "            crosstab_propcol = round(crosstab2.div(crosstab2.iloc[-1,:], axis=1).mul(100, axis=1), 2)\n",
    "            chi2, p, dof, expected = stats.chi2_contingency(crosstab)\n",
    "            \n",
    "            if prop == False:\n",
    "                print(\"\\n\",\n",
    "          f\"Chi-Square test between \" + entry.name + \" and \" + series2.name,\n",
    "          \"\\n\", \"\\n\",\n",
    "          crosstab2,\n",
    "          \"\\n\", \"\\n\",\n",
    "          f\"Pearson Chi2({dof})= {chi2:.4f} p-value= {p:.4f}\")\n",
    "            \n",
    "                if to_csv == True:\n",
    "                    file = open(\"%s.csv\" %(series2.name), 'a')\n",
    "                    file.write(f\"{crosstab2.columns.name}\\n\")\n",
    "                    file.close()\n",
    "                    crosstab2.to_csv(\"%s.csv\" %(series2.name), header= True, mode= 'a')\n",
    "                    file = open(\"%s.csv\" %(series2.name), 'a')\n",
    "                    file.write(f\"Pearson Chi2({dof})= {chi2:.4f} p-value= {p:.4f}\")\n",
    "                    file.write(\"\\n\")\n",
    "                    file.close()\n",
    "\n",
    "            if prop == 'Row':\n",
    "                print(\"\\n\",\n",
    "          f\"Chi-Square test between \" + entry.name + \" and \" + series2.name,\n",
    "          \"\\n\", \"\\n\",\n",
    "          crosstab_proprow,\n",
    "          \"\\n\", \"\\n\",\n",
    "          f\"Pearson Chi2({dof})= {chi2:.4f} p-value= {p:.4f}\")\n",
    "            \n",
    "                if to_csv == True:\n",
    "                    file = open(\"%s.csv\" %(series2.name), 'a')\n",
    "                    file.write(f\"{crosstab_proprow.columns.name}\\n\")\n",
    "                    file.close()\n",
    "                    crosstab_proprow.to_csv(\"%s.csv\" %(series2.name), header= True, mode= 'a')\n",
    "                    file = open(\"%s.csv\" %(series2.name), 'a')\n",
    "                    file.write(f\"Pearson Chi2({dof})= {chi2:.4f} p-value= {p:.4f}\")\n",
    "                    file.write(\"\\n\")\n",
    "                    file.close()\n",
    "\n",
    "            if prop == 'Col':\n",
    "                print(\"\\n\",\n",
    "          f\"Chi-Square test between \" + entry.name + \" and \" + series2.name,\n",
    "          \"\\n\", \"\\n\",\n",
    "          crosstab_propcol,\n",
    "          \"\\n\", \"\\n\",\n",
    "          f\"Pearson Chi2({dof})= {chi2:.4f} p-value= {p:.4f}\")\n",
    "            \n",
    "                if to_csv == True:\n",
    "                    file = open(\"%s.csv\" %(series2.name), 'a')\n",
    "                    file.write(f\"{crosstab_propcol.columns.name}\\n\")\n",
    "                    file.close()\n",
    "                    crosstab_propcol.to_csv(\"%s.csv\" %(series2.name), header= True, mode= 'a')\n",
    "                    file = open(\"%s.csv\" %(series2.name), 'a')\n",
    "                    file.write(f\"Pearson Chi2({dof})= {chi2:.4f} p-value= {p:.4f}\")\n",
    "                    file.write(\"\\n\")\n",
    "                    file.close()"
   ]
  },
  {
   "cell_type": "code",
   "execution_count": 52,
   "id": "cd5b8e45",
   "metadata": {},
   "outputs": [
    {
     "data": {
      "text/plain": [
       "0.0    0.679325\n",
       "1.0    0.320675\n",
       "Name: cannabis, dtype: float64"
      ]
     },
     "execution_count": 52,
     "metadata": {},
     "output_type": "execute_result"
    }
   ],
   "source": [
    "imputed_df['cannabis'].value_counts(normalize=True)"
   ]
  },
  {
   "cell_type": "code",
   "execution_count": 53,
   "id": "3102eb76",
   "metadata": {},
   "outputs": [
    {
     "name": "stdout",
     "output_type": "stream",
     "text": [
      "\n",
      " Chi-Square test between gender_binary and cannabis \n",
      " \n",
      " cannabis         0.0    1.0    All\n",
      "gender_binary                     \n",
      "0.0            71.68  28.32  100.0\n",
      "1.0            57.81  42.19  100.0\n",
      "All            67.93  32.07  100.0 \n",
      " \n",
      " Pearson Chi2(1)= 3.5101 p-value= 0.0610\n"
     ]
    }
   ],
   "source": [
    "chi2_table(imputed_df['gender_binary'], imputed_df['cannabis'])"
   ]
  },
  {
   "cell_type": "code",
   "execution_count": 54,
   "id": "d07d832e",
   "metadata": {},
   "outputs": [
    {
     "name": "stdout",
     "output_type": "stream",
     "text": [
      "\n",
      " Chi-Square test between age_ordinal and cannabis \n",
      " \n",
      " cannabis       0.0    1.0    All\n",
      "age_ordinal                     \n",
      "1.0          87.50  12.50  100.0\n",
      "2.0          79.45  20.55  100.0\n",
      "3.0          74.00  26.00  100.0\n",
      "4.0          54.84  45.16  100.0\n",
      "5.0          58.62  41.38  100.0\n",
      "6.0          47.37  52.63  100.0\n",
      "All          67.93  32.07  100.0 \n",
      " \n",
      " Pearson Chi2(5)= 19.0748 p-value= 0.0019\n"
     ]
    }
   ],
   "source": [
    "# only significant result\n",
    "chi2_table(imputed_df['age_ordinal'], imputed_df['cannabis'])"
   ]
  },
  {
   "cell_type": "code",
   "execution_count": 55,
   "id": "c6d0faa6",
   "metadata": {},
   "outputs": [
    {
     "name": "stdout",
     "output_type": "stream",
     "text": [
      "\n",
      " Chi-Square test between education_ordinal and cannabis \n",
      " \n",
      " cannabis             0.0    1.0    All\n",
      "education_ordinal                     \n",
      "1.0                67.53  32.47  100.0\n",
      "2.0                65.09  34.91  100.0\n",
      "3.0                74.07  25.93  100.0\n",
      "All                67.93  32.07  100.0 \n",
      " \n",
      " Pearson Chi2(2)= 1.3326 p-value= 0.5136\n"
     ]
    }
   ],
   "source": [
    "chi2_table(imputed_df['education_ordinal'], imputed_df['cannabis'])"
   ]
  },
  {
   "cell_type": "code",
   "execution_count": 56,
   "id": "94025c09",
   "metadata": {},
   "outputs": [
    {
     "name": "stdout",
     "output_type": "stream",
     "text": [
      "\n",
      " Chi-Square test between monthly_ordinal and cannabis \n",
      " \n",
      " cannabis           0.0    1.0    All\n",
      "monthly_ordinal                     \n",
      "1.0              63.22  36.78  100.0\n",
      "2.0              86.27  13.73  100.0\n",
      "3.0              66.67  33.33  100.0\n",
      "4.0              59.65  40.35  100.0\n",
      "All              67.93  32.07  100.0 \n",
      " \n",
      " Pearson Chi2(3)= 10.5900 p-value= 0.0142\n"
     ]
    }
   ],
   "source": [
    "chi2_table(imputed_df['monthly_ordinal'], imputed_df['cannabis'])"
   ]
  },
  {
   "cell_type": "code",
   "execution_count": 57,
   "id": "f68cd586",
   "metadata": {},
   "outputs": [
    {
     "name": "stdout",
     "output_type": "stream",
     "text": [
      "\n",
      " Chi-Square test between amount_ordinal and cannabis \n",
      " \n",
      " cannabis           0.0     1.0    All\n",
      "amount_ordinal                       \n",
      "1.0              53.33   46.67  100.0\n",
      "2.0              76.19   23.81  100.0\n",
      "3.0              63.16   36.84  100.0\n",
      "4.0              72.73   27.27  100.0\n",
      "5.0              81.25   18.75  100.0\n",
      "6.0              66.67   33.33  100.0\n",
      "7.0              72.73   27.27  100.0\n",
      "8.0             100.00    0.00  100.0\n",
      "9.0              50.00   50.00  100.0\n",
      "10.0             68.29   31.71  100.0\n",
      "11.0             57.89   42.11  100.0\n",
      "12.0             66.67   33.33  100.0\n",
      "13.0             40.00   60.00  100.0\n",
      "14.0              0.00  100.00  100.0\n",
      "17.0            100.00    0.00  100.0\n",
      "18.0              0.00  100.00  100.0\n",
      "All              67.93   32.07  100.0 \n",
      " \n",
      " Pearson Chi2(15)= 20.1018 p-value= 0.1681\n"
     ]
    }
   ],
   "source": [
    "chi2_table(imputed_df['amount_ordinal'], imputed_df['cannabis'])"
   ]
  },
  {
   "cell_type": "code",
   "execution_count": 58,
   "id": "204bf49e",
   "metadata": {},
   "outputs": [
    {
     "name": "stdout",
     "output_type": "stream",
     "text": [
      "\n",
      " Chi-Square test between city_ordinal and cannabis \n",
      " \n",
      " cannabis        0.0    1.0    All\n",
      "city_ordinal                     \n",
      "1.0           56.72  43.28  100.0\n",
      "2.0           72.73  27.27  100.0\n",
      "3.0           72.41  27.59  100.0\n",
      "4.0           71.43  28.57  100.0\n",
      "All           67.93  32.07  100.0 \n",
      " \n",
      " Pearson Chi2(3)= 5.4087 p-value= 0.1442\n"
     ]
    }
   ],
   "source": [
    "chi2_table(imputed_df['city_ordinal'], imputed_df['cannabis'])"
   ]
  },
  {
   "cell_type": "code",
   "execution_count": 59,
   "id": "61a9f4de",
   "metadata": {},
   "outputs": [
    {
     "name": "stdout",
     "output_type": "stream",
     "text": [
      "\n",
      " Chi-Square test between onset and cannabis \n",
      " \n",
      " cannabis     0.0     1.0    All\n",
      "onset                          \n",
      "7.0        50.00   50.00  100.0\n",
      "11.0      100.00    0.00  100.0\n",
      "12.0       71.43   28.57  100.0\n",
      "13.0       39.13   60.87  100.0\n",
      "14.0       81.25   18.75  100.0\n",
      "15.0       63.64   36.36  100.0\n",
      "16.0       72.97   27.03  100.0\n",
      "17.0       66.67   33.33  100.0\n",
      "18.0       57.14   42.86  100.0\n",
      "19.0       90.00   10.00  100.0\n",
      "20.0       71.43   28.57  100.0\n",
      "21.0      100.00    0.00  100.0\n",
      "22.0       66.67   33.33  100.0\n",
      "23.0      100.00    0.00  100.0\n",
      "24.0      100.00    0.00  100.0\n",
      "25.0       50.00   50.00  100.0\n",
      "26.0      100.00    0.00  100.0\n",
      "28.0        0.00  100.00  100.0\n",
      "34.0      100.00    0.00  100.0\n",
      "All        67.93   32.07  100.0 \n",
      " \n",
      " Pearson Chi2(18)= 23.5694 p-value= 0.1696\n"
     ]
    }
   ],
   "source": [
    "chi2_table(imputed_df['onset'], imputed_df['cannabis'])"
   ]
  },
  {
   "cell_type": "markdown",
   "id": "58743754",
   "metadata": {},
   "source": [
    "### scipy library"
   ]
  },
  {
   "cell_type": "code",
   "execution_count": 60,
   "id": "958b84f3",
   "metadata": {},
   "outputs": [],
   "source": [
    "# https://rowannicholls.github.io/python/statistics/hypothesis_testing/unpaired_two_sample_t_test.html\n",
    "def get_significance(p):\n",
    "    \"\"\"Returns the significance of a p-values as a string of stars.\"\"\"\n",
    "    if p <= 0.001:\n",
    "        return '***'\n",
    "    elif p <= 0.01:\n",
    "        return '**'\n",
    "    elif p <= 0.05:\n",
    "        return '*'\n",
    "    elif p <= 0.1:\n",
    "        return '.'\n",
    "    else:\n",
    "        return ''\n",
    "\n",
    "\n",
    "def round_p_value(p):\n",
    "    \"\"\"Round a small p-value so that it is human-readable.\"\"\"\n",
    "    if p < 0.001:\n",
    "        return '<0.001'\n",
    "    else:\n",
    "        return f'{p:5.3}'\n"
   ]
  },
  {
   "cell_type": "code",
   "execution_count": 61,
   "id": "cefbbf4c",
   "metadata": {},
   "outputs": [],
   "source": [
    "# similar to R programming F statistics results\n",
    "\n",
    "# Import the library\n",
    "import scipy.stats as stats\n",
    "\n",
    "# https://stackoverflow.com/questions/21494141/how-do-i-do-a-f-test-in-python\n",
    "def f_test(x, y, alt=\"two_sided\"):\n",
    "    \"\"\"\n",
    "    Calculates the F-test.\n",
    "    :param x: The first group of data\n",
    "    :param y: The second group of data\n",
    "    :param alt: The alternative hypothesis, one of \"two_sided\" (default), \"greater\" or \"less\"\n",
    "    :return: a tuple with the F statistic value and the p-value.\n",
    "    \"\"\"\n",
    "    df1 = len(x) - 1\n",
    "    df2 = len(y) - 1\n",
    "    f = x.var() / y.var()\n",
    "    if alt == \"greater\":\n",
    "        p = 1.0 - stats.f.cdf(f, df1, df2)\n",
    "    elif alt == \"less\":\n",
    "        p = stats.f.cdf(f, df1, df2)\n",
    "    else:\n",
    "        # two-sided by default\n",
    "        # Crawley, the R book, p.355\n",
    "        p = 2.0*(1.0 - stats.f.cdf(f, df1, df2))\n",
    "    return f, p\n",
    "\n"
   ]
  },
  {
   "cell_type": "code",
   "execution_count": 62,
   "id": "aa20080e",
   "metadata": {},
   "outputs": [
    {
     "name": "stdout",
     "output_type": "stream",
     "text": [
      "Variance of the groups 0.5658732301994522 0.49220914127423826\n",
      "\n",
      "Differences: 0.8698222764500633\n",
      "\n",
      "F test results :  (1.149660139863537, 0.5008683796162656)\n",
      "\n",
      "Two-sample t-test: s = 0.682, p = 0.496\n",
      "\n",
      "The p-value is 0.496 ()\n"
     ]
    }
   ],
   "source": [
    "# education\n",
    "\n",
    "\n",
    "\n",
    "a = imputed_df.loc[imputed_df['cannabis'] == 0, 'education_ordinal'].to_numpy()\n",
    "b = imputed_df.loc[imputed_df['cannabis'] == 1, 'education_ordinal'].to_numpy()\n",
    "\n",
    "\n",
    "\n",
    "#find variance for each group\n",
    "# If it is less than 4, we can assume that the population variances are equal\n",
    "\n",
    "print('Variance of the groups', np.var(a), np.var(b))\n",
    "print(f'\\nDifferences: {np.var(b)/ np.var(a)}')\n",
    "\n",
    "# test\n",
    "print('\\nF test results : ',f_test(a,b))\n",
    "\n",
    "# Two-sample t-test\n",
    "statistic, pvalue = stats.ttest_ind(a=a, b=b, equal_var=True)\n",
    "\n",
    "print(f'\\nTwo-sample t-test: s = {statistic:5.3f}, p = {pvalue:5.3f}')\n",
    "\n",
    "p_rounded = round_p_value(pvalue)\n",
    "significance = get_significance(pvalue)\n",
    "\n",
    "print(f'\\nThe p-value is {p_rounded} ({significance})')\n"
   ]
  },
  {
   "cell_type": "code",
   "execution_count": 63,
   "id": "1c78de6c",
   "metadata": {},
   "outputs": [
    {
     "name": "stdout",
     "output_type": "stream",
     "text": [
      "Variance of the groups 9.68234250221828 8.641793628808864\n",
      "\n",
      "Differences: 0.8925312884592732\n",
      "\n",
      "F test results :  (1.1204089009879352, 0.5855749878411158)\n",
      "\n",
      "Two-sample t-test: s = 1.069, p = 0.286\n",
      "\n",
      "The p-value is 0.286 ()\n"
     ]
    }
   ],
   "source": [
    "# onset\n",
    "\n",
    "a = imputed_df.loc[imputed_df['cannabis'] == 0, 'onset'].to_numpy()\n",
    "b = imputed_df.loc[imputed_df['cannabis'] == 1, 'onset'].to_numpy()\n",
    "\n",
    "#find variance for each group\n",
    "# If it is less than 4, we can assume that the population variances are equal\n",
    "\n",
    "print('Variance of the groups', np.var(a), np.var(b))\n",
    "print(f'\\nDifferences: {np.var(b)/ np.var(a)}')\n",
    "\n",
    "# test\n",
    "print('\\nF test results : ',f_test(a,b))\n",
    "\n",
    "# Two-sample t-test\n",
    "statistic, pvalue = stats.ttest_ind(a=a, b=b, equal_var=True)\n",
    "\n",
    "print(f'\\nTwo-sample t-test: s = {statistic:5.3f}, p = {pvalue:5.3f}')\n",
    "\n",
    "p_rounded = round_p_value(pvalue)\n",
    "significance = get_significance(pvalue)\n",
    "\n",
    "print(f'\\nThe p-value is {p_rounded} ({significance})')"
   ]
  },
  {
   "cell_type": "code",
   "execution_count": 64,
   "id": "fcb018a2",
   "metadata": {},
   "outputs": [
    {
     "name": "stdout",
     "output_type": "stream",
     "text": [
      "Variance of the groups 0.961228347671772 1.0974722991689747\n",
      "\n",
      "Differences: 1.1417394231320834\n",
      "\n",
      "F test results :  (0.8758565919154688, 1.5143934483052988)\n",
      "\n",
      "Two-sample t-test: s = 1.849, p = 0.066\n",
      "\n",
      "The p-value is 0.0658 (.)\n"
     ]
    }
   ],
   "source": [
    "#city\n",
    "\n",
    "a = imputed_df.loc[imputed_df['cannabis'] == 0, 'city_ordinal'].to_numpy()\n",
    "b = imputed_df.loc[imputed_df['cannabis'] == 1, 'city_ordinal'].to_numpy()\n",
    "\n",
    "\n",
    "#find variance for each group\n",
    "# If it is less than 4, we can assume that the population variances are equal\n",
    "\n",
    "print('Variance of the groups', np.var(a), np.var(b))\n",
    "print(f'\\nDifferences: {np.var(b)/ np.var(a)}')\n",
    "\n",
    "# test\n",
    "print('\\nF test results : ',f_test(a,b))\n",
    "\n",
    "# Two-sample t-test\n",
    "statistic, pvalue = stats.ttest_ind(a=a, b=b, equal_var=True)\n",
    "\n",
    "print(f'\\nTwo-sample t-test: s = {statistic:5.3f}, p = {pvalue:5.3f}')\n",
    "\n",
    "p_rounded = round_p_value(pvalue)\n",
    "significance = get_significance(pvalue)\n",
    "\n",
    "print(f'\\nThe p-value is {p_rounded} ({significance})')\n"
   ]
  },
  {
   "cell_type": "code",
   "execution_count": 65,
   "id": "4491ad2b",
   "metadata": {},
   "outputs": [
    {
     "name": "stdout",
     "output_type": "stream",
     "text": [
      "Variance of the groups 2.2283090930133866 2.4063365650969537\n",
      "\n",
      "Differences: 1.0798935267291923\n",
      "\n",
      "F test results :  (0.926017218594526, 1.3205054754439147)\n",
      "\n",
      "Two-sample t-test: s = -4.361, p = 0.000\n",
      "\n",
      "The p-value is <0.001 (***)\n"
     ]
    }
   ],
   "source": [
    "# age\n",
    "\n",
    "a = imputed_df.loc[imputed_df['cannabis'] == 0, 'age_ordinal'].to_numpy()\n",
    "b = imputed_df.loc[imputed_df['cannabis'] == 1, 'age_ordinal'].to_numpy()\n",
    "\n",
    "\n",
    "#find variance for each group\n",
    "# If it is less than 4, we can assume that the population variances are equal\n",
    "\n",
    "print('Variance of the groups', np.var(a), np.var(b))\n",
    "print(f'\\nDifferences: {np.var(b)/ np.var(a)}')\n",
    "\n",
    "# test\n",
    "print('\\nF test results : ',f_test(a,b))\n",
    "\n",
    "# Two-sample t-test\n",
    "statistic, pvalue = stats.ttest_ind(a=a, b=b, equal_var=True)\n",
    "\n",
    "print(f'\\nTwo-sample t-test: s = {statistic:5.3f}, p = {pvalue:5.3f}')\n",
    "\n",
    "p_rounded = round_p_value(pvalue)\n",
    "significance = get_significance(pvalue)\n",
    "\n",
    "print(f'\\nThe p-value is {p_rounded} ({significance})')\n"
   ]
  },
  {
   "cell_type": "code",
   "execution_count": 66,
   "id": "cce04ddc",
   "metadata": {},
   "outputs": [
    {
     "name": "stdout",
     "output_type": "stream",
     "text": [
      "Variance of the groups 13.853863662667337 20.082236842105264\n",
      "\n",
      "Differences: 1.4495766185588947\n",
      "\n",
      "F test results :  (0.6898566017118543, 1.946814538273726)\n",
      "\n",
      "Two-sample t-test: s = -0.790, p = 0.430\n",
      "\n",
      "The p-value is  0.43 ()\n"
     ]
    }
   ],
   "source": [
    "# amount\n",
    "\n",
    "a = imputed_df.loc[imputed_df['cannabis'] == 0, 'amount_ordinal'].to_numpy()\n",
    "b = imputed_df.loc[imputed_df['cannabis'] == 1, 'amount_ordinal'].to_numpy()\n",
    "\n",
    "\n",
    "#find variance for each group\n",
    "# If it is less than 4, we can assume that the population variances are equal\n",
    "\n",
    "print('Variance of the groups', np.var(a), np.var(b))\n",
    "print(f'\\nDifferences: {np.var(b)/ np.var(a)}')\n",
    "\n",
    "# test\n",
    "print('\\nF test results : ',f_test(a,b))\n",
    "\n",
    "# Two-sample t-test\n",
    "statistic, pvalue = stats.ttest_ind(a=a, b=b, equal_var=True)\n",
    "\n",
    "print(f'\\nTwo-sample t-test: s = {statistic:5.3f}, p = {pvalue:5.3f}')\n",
    "\n",
    "p_rounded = round_p_value(pvalue)\n",
    "significance = get_significance(pvalue)\n",
    "\n",
    "print(f'\\nThe p-value is {p_rounded} ({significance})')"
   ]
  },
  {
   "cell_type": "code",
   "execution_count": 67,
   "id": "c0f8aeb9",
   "metadata": {},
   "outputs": [
    {
     "name": "stdout",
     "output_type": "stream",
     "text": [
      "Variance of the groups 1.2953975541067089 1.6800554016620501\n",
      "\n",
      "Differences: 1.2969419282411698\n",
      "\n",
      "F test results :  (0.7710445458079502, 1.8242251726428482)\n",
      "\n",
      "Two-sample t-test: s = -0.683, p = 0.495\n",
      "\n",
      "The p-value is 0.495 ()\n"
     ]
    }
   ],
   "source": [
    "# monhtly usage\n",
    "\n",
    "a = imputed_df.loc[imputed_df['cannabis'] == 0, 'monthly_ordinal'].to_numpy()\n",
    "b = imputed_df.loc[imputed_df['cannabis'] == 1, 'monthly_ordinal'].to_numpy()\n",
    "\n",
    "\n",
    "#find variance for each group\n",
    "# If it is less than 4, we can assume that the population variances are equal\n",
    "\n",
    "print('Variance of the groups', np.var(a), np.var(b))\n",
    "print(f'\\nDifferences: {np.var(b)/ np.var(a)}')\n",
    "\n",
    "# test\n",
    "print('\\nF test results : ',f_test(a,b))\n",
    "\n",
    "# Two-sample t-test\n",
    "statistic, pvalue = stats.ttest_ind(a=a, b=b, equal_var=True)\n",
    "\n",
    "print(f'\\nTwo-sample t-test: s = {statistic:5.3f}, p = {pvalue:5.3f}')\n",
    "\n",
    "p_rounded = round_p_value(pvalue)\n",
    "significance = get_significance(pvalue)\n",
    "\n",
    "print(f'\\nThe p-value is {p_rounded} ({significance})')"
   ]
  },
  {
   "cell_type": "markdown",
   "id": "2468cb8e",
   "metadata": {},
   "source": [
    "### Bioinfokit"
   ]
  },
  {
   "cell_type": "code",
   "execution_count": 68,
   "id": "e7e06523",
   "metadata": {},
   "outputs": [
    {
     "name": "stdout",
     "output_type": "stream",
     "text": [
      "\n",
      "Two sample t-test with equal variance\n",
      "\n",
      "------------------  -----------\n",
      "Mean diff             0.25899\n",
      "t                     1.84851\n",
      "Std Error             0.140107\n",
      "df                  235\n",
      "p value (one-tail)    0.0328921\n",
      "p value (two-tail)    0.0657843\n",
      "Lower 95.0%          -0.0170365\n",
      "Upper 95.0%           0.535016\n",
      "------------------  -----------\n",
      "\n",
      "Parameter estimates\n",
      "\n",
      "  Level    Number     Mean    Std Dev    Std Error    Lower 95.0%    Upper 95.0%\n",
      "-------  --------  -------  ---------  -----------  -------------  -------------\n",
      "      0       161  2.40373   0.983482    0.0775092        2.25065        2.5568\n",
      "      1        76  2.14474   1.05456     0.120967         1.90376        2.38572\n",
      "\n"
     ]
    }
   ],
   "source": [
    "# https://www.reneshbedre.com/blog/ttest.html\n",
    "\n",
    "from bioinfokit.analys import stat\n",
    "res = stat()\n",
    "# for unequal variance t-test (Welch's t-test) set evar=False\n",
    "res.ttest(df=imputed_df, xfac=\"cannabis\", res=\"city_ordinal\", test_type=2)\n",
    "\n",
    "print(res.summary)"
   ]
  },
  {
   "cell_type": "code",
   "execution_count": 69,
   "id": "c5fe783e",
   "metadata": {},
   "outputs": [
    {
     "name": "stdout",
     "output_type": "stream",
     "text": [
      "\n",
      "Two sample t-test with equal variance\n",
      "\n",
      "------------------  -----------\n",
      "Mean diff             0.0702027\n",
      "t                     0.682117\n",
      "Std Error             0.102919\n",
      "df                  235\n",
      "p value (one-tail)    0.247918\n",
      "p value (two-tail)    0.495837\n",
      "Lower 95.0%          -0.132559\n",
      "Upper 95.0%           0.272964\n",
      "------------------  -----------\n",
      "\n",
      "Parameter estimates\n",
      "\n",
      "  Level    Number     Mean    Std Dev    Std Error    Lower 95.0%    Upper 95.0%\n",
      "-------  --------  -------  ---------  -----------  -------------  -------------\n",
      "      0       161  1.92547   0.754593    0.0594702        1.80802        2.04291\n",
      "      1        76  1.85526   0.706238    0.081011         1.69388        2.01665\n",
      "\n"
     ]
    }
   ],
   "source": [
    "# for unequal variance t-test (Welch's t-test) set evar=False\n",
    "res.ttest(df=imputed_df, xfac=\"cannabis\", res=\"education_ordinal\", test_type=2)\n",
    "\n",
    "print(res.summary)"
   ]
  },
  {
   "cell_type": "code",
   "execution_count": 70,
   "id": "8d1dc9b3",
   "metadata": {},
   "outputs": [
    {
     "name": "stdout",
     "output_type": "stream",
     "text": [
      "\n",
      "Two sample t-test with equal variance\n",
      "\n",
      "------------------  ----------\n",
      "Mean diff             0.456767\n",
      "t                     1.06887\n",
      "Std Error             0.427336\n",
      "df                  235\n",
      "p value (one-tail)    0.143112\n",
      "p value (two-tail)    0.286225\n",
      "Lower 95.0%          -0.385132\n",
      "Upper 95.0%           1.29867\n",
      "------------------  ----------\n",
      "\n",
      "Parameter estimates\n",
      "\n",
      "  Level    Number     Mean    Std Dev    Std Error    Lower 95.0%    Upper 95.0%\n",
      "-------  --------  -------  ---------  -----------  -------------  -------------\n",
      "      0       161  16.2857    3.12136     0.245997        15.7999        16.7715\n",
      "      1        76  15.8289    2.95923     0.339446        15.1527        16.5052\n",
      "\n"
     ]
    }
   ],
   "source": [
    "# for unequal variance t-test (Welch's t-test) set evar=False\n",
    "res.ttest(df=imputed_df, xfac=\"cannabis\", res=\"onset\", test_type=2)\n",
    "\n",
    "print(res.summary)"
   ]
  },
  {
   "cell_type": "code",
   "execution_count": 71,
   "id": "77be42c4",
   "metadata": {},
   "outputs": [
    {
     "name": "stdout",
     "output_type": "stream",
     "text": [
      "\n",
      "Two sample t-test with equal variance\n",
      "\n",
      "------------------  -------------\n",
      "Mean diff            -0.921461\n",
      "t                    -4.36115\n",
      "Std Error             0.211288\n",
      "df                  235\n",
      "p value (one-tail)    9.68358e-06\n",
      "p value (two-tail)    1.93672e-05\n",
      "Lower 95.0%          -1.33772\n",
      "Upper 95.0%          -0.5052\n",
      "------------------  -------------\n",
      "\n",
      "Parameter estimates\n",
      "\n",
      "  Level    Number     Mean    Std Dev    Std Error    Lower 95.0%    Upper 95.0%\n",
      "-------  --------  -------  ---------  -----------  -------------  -------------\n",
      "      0       161  3.11801    1.49741     0.118012        2.88495        3.35108\n",
      "      1        76  4.03947    1.56154     0.179121        3.68265        4.3963\n",
      "\n"
     ]
    }
   ],
   "source": [
    "# for unequal variance t-test (Welch's t-test) set evar=False\n",
    "res.ttest(df=imputed_df, xfac=\"cannabis\", res=\"age_ordinal\", test_type=2)\n",
    "\n",
    "print(res.summary)"
   ]
  },
  {
   "cell_type": "code",
   "execution_count": null,
   "id": "224a73bd",
   "metadata": {},
   "outputs": [],
   "source": []
  },
  {
   "cell_type": "code",
   "execution_count": null,
   "id": "e59df518",
   "metadata": {},
   "outputs": [],
   "source": []
  }
 ],
 "metadata": {
  "kernelspec": {
   "display_name": "Python 3 (ipykernel)",
   "language": "python",
   "name": "python3"
  },
  "language_info": {
   "codemirror_mode": {
    "name": "ipython",
    "version": 3
   },
   "file_extension": ".py",
   "mimetype": "text/x-python",
   "name": "python",
   "nbconvert_exporter": "python",
   "pygments_lexer": "ipython3",
   "version": "3.9.13"
  }
 },
 "nbformat": 4,
 "nbformat_minor": 5
}
